{
  "cells": [
    {
      "cell_type": "markdown",
      "metadata": {
        "id": "4DNF1NpAGki8"
      },
      "source": [
        "<img src=\"media/logo.jpg\" width=\"300\">\n",
        "\n",
        "# Master 2 VMI - TP RF : Convolutionnal Neural Network (CNN) "
      ]
    },
    {
      "cell_type": "markdown",
      "metadata": {
        "id": "geI2bMsyGkjA"
      },
      "source": [
        "Prérequis pour ce TP : disposer d'un compte Google\n",
        "* Télécharger ce projet GitHub sur votre machine locale\n",
        "* Uploader ensuite ce projet dans un dossier lié à votre compte Google Drive\n",
        "* Ouvrir Google Collab et rechercher votre projet\n",
        "* Vous pouvez alors exécuter les différentes étapes sucessivement de ce notebook en local sur le serveur Google Collab, ce qui vous évite de disposer d'un GPU en local"
      ]
    },
    {
      "cell_type": "markdown",
      "metadata": {
        "id": "II77uYgFGkjC"
      },
      "source": [
        "## La classification\n",
        "La classification est un precessus qui prend une entrée une donnée (par exemple, une image et ses pixels) et qui repond par une decision en sortie (chien, chat, ...) ou la probabiltée de chacune des classes considérées.\n",
        "\n",
        "## Les réseaux de neurones convolutionnels (CNN)\n",
        "Les CNN sont des réseaux profonds composés de différentes couches dans le but d'extraire (d'apprendre) des caractéristiques permettant de différencier les classes traitées. \n",
        "\n",
        "<img src=\"media/architecture-cnn-fr.png\" width=\"800\">\n",
        "\n",
        "## Types de couche\n",
        "\n",
        "### Couche de convolution\n",
        "Le principe de la convolution est de glisser un masque sur l'ensemble des pixels de l'image et de calculer le produit de convolution pour chacun des pixels couverts par ce masque.\n",
        "<img src=\"media/convolution-layer-a.png\" width=\"500\">\n",
        "*Remarque : l'étape de convolution peut aussi être généralisée dans les cas 1D et 3D.*\n",
        "\n",
        "### Couche de pooling\n",
        "Cette couche a pour but de réduire la dimension spatiale afin de ne garder que les information pertinentes. En particulier, les types de pooling les plus populaires sont le max et l'average pooling.\n",
        "\n",
        "|   Max Pooling        |   Avreage Pooling   |\n",
        ":-------------------:  |  :-------------------------:\n",
        "|<img src=\"media/max-pooling-a.png\" width=\"300\"> | <img src=\"media/average-pooling-a.png\" width=\"300\">  |"
      ]
    },
    {
      "cell_type": "markdown",
      "metadata": {
        "id": "eFpTCjiaGkjF"
      },
      "source": [
        "# CNN pour la classification d'images \n",
        "\n",
        "Dans ce TP, le but est d'utiliser l'approntissage profond pour faire une classification d'images. Pour cela, la necessité d'une base de donnée est indispenssable. Nous allons utiliser ici la base CIFARE10.\n",
        "\n",
        "## CIFARE10\n",
        "\n",
        "CIFAR10 est constituée de 10 classes avec 6000 images dans chaque classe, amenant à 60 000 images au total. Cet ensemble d'images est divisé en 2 sous-ensembles : un ensemble pour l'entraînement qui contient 50 000 images et un ensemble pour le test qui contient 10 000 images.\n",
        "\n",
        "Les classes de cette base de données sont : \n",
        "\n",
        "* airplane\n",
        "* automobile\n",
        "* bird\n",
        "* cat\n",
        "* deer\n",
        "* dog\n",
        "* frog\n",
        "* horse\n",
        "* ship\n",
        "* truck\n",
        "\n",
        "Les images de cette base sont de talle 3x32x32 (des imagettes en couleur RGB).\n",
        "\n",
        "<img src=\"media/cifar10.png\">\n",
        "\n",
        "## Chargement de la base\n"
      ]
    },
    {
      "cell_type": "code",
      "execution_count": 1,
      "metadata": {
        "id": "suVmdzu0GkjG"
      },
      "outputs": [],
      "source": [
        "import torch\n",
        "import torchvision\n",
        "import torchvision.transforms as transforms\n",
        "import seaborn as sns\n",
        "from tqdm.notebook import tqdm\n",
        "from tqdm import tqdm\n",
        "from torchvision import models\n"
      ]
    },
    {
      "cell_type": "code",
      "execution_count": 4,
      "metadata": {
        "colab": {
          "base_uri": "https://localhost:8080/",
          "height": 101,
          "referenced_widgets": [
            "148ed8a747464555a769cb40ce5bdd1f",
            "4fc41a73bd8a4535bdc8f9f27e4a098b",
            "9671210ce247486cad0f2e4e0e257235",
            "224e022a3f6749359060905bb710cb8a",
            "8e73c133390c498fa017b802367c5066",
            "4ccbb0cee2384d44a731faa933672b6d",
            "de7da04f794a4eafb5a6c0cf683fae8f",
            "e5de964fc35044d0a567915bc3666ccd",
            "7a22e5b1ddca4893b6bdcb0f342bad6c",
            "e7803ced0d5a408487008477ec2ccf1c",
            "acc52ed967c7492cad8a1fe0e6e97c94"
          ]
        },
        "id": "feaPhQt_GkjH",
        "outputId": "82b6ee54-0e03-4c6a-c190-4beef98195da"
      },
      "outputs": [
        {
          "output_type": "stream",
          "name": "stdout",
          "text": [
            "Downloading https://www.cs.toronto.edu/~kriz/cifar-10-python.tar.gz to ./data/cifar-10-python.tar.gz\n"
          ]
        },
        {
          "output_type": "display_data",
          "data": {
            "application/vnd.jupyter.widget-view+json": {
              "model_id": "148ed8a747464555a769cb40ce5bdd1f",
              "version_minor": 0,
              "version_major": 2
            },
            "text/plain": [
              "  0%|          | 0/170498071 [00:00<?, ?it/s]"
            ]
          },
          "metadata": {}
        },
        {
          "output_type": "stream",
          "name": "stdout",
          "text": [
            "Extracting ./data/cifar-10-python.tar.gz to ./data\n",
            "Files already downloaded and verified\n"
          ]
        }
      ],
      "source": [
        "transform = transforms.Compose(\n",
        "    [transforms.ToTensor(),\n",
        "     transforms.Normalize((0.5, 0.5, 0.5), (0.5, 0.5, 0.5))]\n",
        ")\n",
        "\n",
        "\n",
        "##########################################################################\n",
        "#    Chargement/telechargement de la base de TRAIN de CIFARE10           #\n",
        "##########################################################################\n",
        "\n",
        "trainset = torchvision.datasets.CIFAR10(root='./data', train=True, download=True, transform=transform)\n",
        "\n",
        "##########################################################################\n",
        "#    Chargement/telechargement de la base de TEST de CIFARE10            #\n",
        "##########################################################################\n",
        "\n",
        "testset = torchvision.datasets.CIFAR10(root='./data', train=False, download=True, transform=transform)\n",
        "\n",
        "##########################################################################\n",
        "#   Definition du module pour parcourir les donnees                      #\n",
        "# Paramètres:                                                            #\n",
        "#       - Batchsize (nb d'images qui passent en une fois avant retropropagation)#\n",
        "#       - shuffle (ordre de passage aléatoire des images) :              #\n",
        "#                   Vrai      ---> lors de l'entraînement                #\n",
        "#                   Faux/Vrai ---> lors du test                          #\n",
        "#                                                                        #\n",
        "# * On va creer 2 modules : un pour le TRAIN et un pour le TEST          #\n",
        "##########################################################################\n",
        "\n",
        "trainloader = torch.utils.data.DataLoader(trainset, batch_size=16, shuffle=True, num_workers=2)\n",
        "testloader = torch.utils.data.DataLoader(testset, batch_size=16, shuffle=False, num_workers=2)\n",
        "\n",
        "classes = ['plane', 'car', 'bird', 'cat', 'deer', 'dog', 'frog', 'horse', 'ship', 'truck']"
      ]
    },
    {
      "cell_type": "markdown",
      "metadata": {
        "id": "LS326T5PGkjI"
      },
      "source": [
        "### Visualisation de quelques images de l'ensemble d'entraînement"
      ]
    },
    {
      "cell_type": "code",
      "execution_count": 5,
      "metadata": {
        "colab": {
          "base_uri": "https://localhost:8080/",
          "height": 153
        },
        "id": "Qp8vKy8bGkjJ",
        "outputId": "dda10506-4529-40df-c992-1c3e1b3c9140"
      },
      "outputs": [
        {
          "output_type": "display_data",
          "data": {
            "image/png": "[encoded data removed]",
            "text/plain": [
              "<Figure size 432x288 with 1 Axes>"
            ]
          },
          "metadata": {
            "needs_background": "light"
          }
        },
        {
          "output_type": "stream",
          "name": "stdout",
          "text": [
            "plane horse truck   cat  deer  frog truck   dog  bird  deer  ship plane  ship  frog  deer horse\n"
          ]
        }
      ],
      "source": [
        "import matplotlib.pyplot as plt\n",
        "import numpy as np\n",
        "\n",
        "# functions to show an image\n",
        "def imshow(img):\n",
        "    img = img / 2 + 0.5     # unnormalize\n",
        "    npimg = img.numpy()\n",
        "    ##########################################################################################\n",
        "    #   Il faut transposée les images car PyTorch lis les image en [Chanels, Width, Height]  #\n",
        "    #   et pour les voir il faut qu'elles soient [Width, Height, Chanels]                    #\n",
        "    ##########################################################################################\n",
        "    plt.imshow(np.transpose(npimg, (1, 2, 0))) \n",
        "    plt.show()\n",
        "\n",
        "\n",
        "# get some random training images\n",
        "dataiter = iter(trainloader)\n",
        "images, labels = dataiter.next()\n",
        "\n",
        "# show images\n",
        "imshow(torchvision.utils.make_grid(images))\n",
        "# print labels\n",
        "print(' '.join('%5s' % classes[labels[j]] for j in range(16)))"
      ]
    },
    {
      "cell_type": "markdown",
      "metadata": {
        "id": "FGSuVPUJGkjJ"
      },
      "source": [
        "### Création d'un CNN simple avec 2 couches de convolutions"
      ]
    },
    {
      "cell_type": "code",
      "execution_count": 6,
      "metadata": {
        "colab": {
          "base_uri": "https://localhost:8080/"
        },
        "id": "VB2LJqv-GkjJ",
        "outputId": "1daf0a9a-f2cd-483b-9211-8594aa904001"
      },
      "outputs": [
        {
          "output_type": "stream",
          "name": "stdout",
          "text": [
            "Net(\n",
            "  (conv1): Conv2d(3, 10, kernel_size=(5, 5), stride=(1, 1))\n",
            "  (pool): MaxPool2d(kernel_size=2, stride=2, padding=0, dilation=1, ceil_mode=False)\n",
            "  (conv2): Conv2d(10, 20, kernel_size=(5, 5), stride=(1, 1))\n",
            "  (fc1): Linear(in_features=500, out_features=120, bias=True)\n",
            "  (fc2): Linear(in_features=120, out_features=84, bias=True)\n",
            "  (fc3): Linear(in_features=84, out_features=10, bias=True)\n",
            ")\n"
          ]
        }
      ],
      "source": [
        "import torch.nn as nn\n",
        "import torch.nn.functional as F\n",
        "\n",
        "class Net(nn.Module):\n",
        "    def __init__(self):\n",
        "        super(Net, self).__init__()\n",
        "        self.conv1 = nn.Conv2d(in_channels=3, out_channels=10, kernel_size=5)\n",
        "        self.pool = nn.MaxPool2d(kernel_size=2, stride=2)\n",
        "        self.conv2 = nn.Conv2d(in_channels=10, out_channels=20, kernel_size=5)\n",
        "        self.fc1 = nn.Linear(in_features=20 * 5 * 5, out_features=120)\n",
        "        self.fc2 = nn.Linear(in_features=120, out_features=84)\n",
        "        self.fc3 = nn.Linear(in_features=84, out_features=10)\n",
        "\n",
        "    def forward(self, x):\n",
        "        x = self.pool(F.relu(self.conv1(x)))\n",
        "        x = self.pool(F.relu(self.conv2(x)))\n",
        "        x = x.view(-1, 20 * 5 * 5) #flattening\n",
        "        x = F.relu(self.fc1(x))\n",
        "        x = F.relu(self.fc2(x))\n",
        "        x = self.fc3(x)\n",
        "        return x\n",
        "\n",
        "\n",
        "net = Net()\n",
        "print(net)"
      ]
    },
    {
      "cell_type": "markdown",
      "metadata": {
        "id": "oxPfkq_BGkjK"
      },
      "source": [
        "### Definition de la fonction Loss et de l'optimizeur\n",
        "\n",
        "Exemple ici : Classification Cross-Entropy loss et SGD avec momentum."
      ]
    },
    {
      "cell_type": "code",
      "execution_count": 7,
      "metadata": {
        "id": "HZlugldZGkjK"
      },
      "outputs": [],
      "source": [
        "import torch.optim as optim\n",
        "\n",
        "criterion = nn.CrossEntropyLoss()\n",
        "optimizer = optim.SGD(net.parameters(), lr=0.01, momentum=0.9)"
      ]
    },
    {
      "cell_type": "markdown",
      "metadata": {
        "id": "si17zVrxGkjL"
      },
      "source": [
        "### Entraînement du reseau\n"
      ]
    },
    {
      "cell_type": "code",
      "execution_count": 7,
      "metadata": {
        "colab": {
          "base_uri": "https://localhost:8080/",
          "height": 1000
        },
        "id": "L_hBoJaOGkjL",
        "outputId": "c41ed288-c2ad-4cb7-86a7-cbdb30de4828"
      },
      "outputs": [
        {
          "output_type": "stream",
          "name": "stdout",
          "text": [
            "Epoch  0 ; train loss =  1.0309346487617492 ; accuracy =  0.5712\n",
            "Epoch  1 ; train loss =  1.0413881728172303 ; accuracy =  0.5742\n",
            "Epoch  2 ; train loss =  1.0429740548539161 ; accuracy =  0.5616\n",
            "Epoch  3 ; train loss =  1.070006279759407 ; accuracy =  0.5377\n",
            "Epoch  4 ; train loss =  1.0458337939858438 ; accuracy =  0.5978\n",
            "Epoch  5 ; train loss =  1.063083839058876 ; accuracy =  0.5774\n",
            "Epoch  6 ; train loss =  1.0501775427389144 ; accuracy =  0.565\n",
            "Epoch  7 ; train loss =  1.076967012424469 ; accuracy =  0.5686\n",
            "Epoch  8 ; train loss =  1.1048963649463655 ; accuracy =  0.588\n",
            "Epoch  9 ; train loss =  1.093283351354599 ; accuracy =  0.5713\n",
            "Epoch  10 ; train loss =  1.0854895767855643 ; accuracy =  0.5687\n",
            "Epoch  11 ; train loss =  1.0975661896944047 ; accuracy =  0.5808\n",
            "Epoch  12 ; train loss =  1.1453356191849708 ; accuracy =  0.5113\n",
            "Epoch  13 ; train loss =  1.1417723720359803 ; accuracy =  0.5623\n",
            "Epoch  14 ; train loss =  1.1556938442850113 ; accuracy =  0.561\n",
            "Epoch  15 ; train loss =  1.2250102654004098 ; accuracy =  0.5407\n",
            "Epoch  16 ; train loss =  1.2658675100326537 ; accuracy =  0.557\n",
            "Epoch  17 ; train loss =  1.2521384104442597 ; accuracy =  0.4968\n",
            "Epoch  18 ; train loss =  1.288058769621849 ; accuracy =  0.5152\n",
            "Epoch  19 ; train loss =  1.3518667714834214 ; accuracy =  0.4901\n",
            "Epoch  20 ; train loss =  1.4842028381824492 ; accuracy =  0.4641\n",
            "Epoch  21 ; train loss =  1.4673300192928314 ; accuracy =  0.4597\n",
            "Epoch  22 ; train loss =  1.4799991034317017 ; accuracy =  0.4683\n",
            "Epoch  23 ; train loss =  1.5490917248249054 ; accuracy =  0.3859\n",
            "Epoch  24 ; train loss =  1.5370547970199584 ; accuracy =  0.4873\n",
            "Epoch  25 ; train loss =  1.6164460564041139 ; accuracy =  0.3824\n",
            "Epoch  26 ; train loss =  1.7232782858467102 ; accuracy =  0.3998\n",
            "Epoch  27 ; train loss =  1.9916490605926513 ; accuracy =  0.1\n",
            "Epoch  28 ; train loss =  2.3040184329223634 ; accuracy =  0.1\n",
            "Epoch  29 ; train loss =  2.3041877268981934 ; accuracy =  0.1\n",
            "Epoch  30 ; train loss =  2.3039775716400146 ; accuracy =  0.1\n",
            "Epoch  31 ; train loss =  2.3040632539367674 ; accuracy =  0.1\n",
            "Epoch  32 ; train loss =  2.3038929319000245 ; accuracy =  0.1\n",
            "Epoch  33 ; train loss =  2.304200478591919 ; accuracy =  0.1\n",
            "Epoch  34 ; train loss =  2.3042879442596433 ; accuracy =  0.1\n",
            "Epoch  35 ; train loss =  2.304172350769043 ; accuracy =  0.1\n",
            "Epoch  36 ; train loss =  2.3041135816192626 ; accuracy =  0.1\n",
            "Epoch  37 ; train loss =  2.3040998974609375 ; accuracy =  0.1\n",
            "Epoch  38 ; train loss =  2.3041088063049315 ; accuracy =  0.1\n",
            "Epoch  39 ; train loss =  2.3041905255126953 ; accuracy =  0.1\n",
            "Epoch  40 ; train loss =  2.3039810556793214 ; accuracy =  0.1\n",
            "Epoch  41 ; train loss =  2.3042488945007324 ; accuracy =  0.1\n",
            "Epoch  42 ; train loss =  2.303756927719116 ; accuracy =  0.1\n",
            "Epoch  43 ; train loss =  2.3042727880859375 ; accuracy =  0.1\n",
            "Epoch  44 ; train loss =  2.3040505725860596 ; accuracy =  0.1\n",
            "Epoch  45 ; train loss =  2.3041502950286867 ; accuracy =  0.1\n",
            "Epoch  46 ; train loss =  2.3042809174346925 ; accuracy =  0.1\n",
            "Epoch  47 ; train loss =  2.3042845820617677 ; accuracy =  0.1\n",
            "Epoch  48 ; train loss =  2.304208020477295 ; accuracy =  0.1\n",
            "Epoch  49 ; train loss =  2.304020787124634 ; accuracy =  0.1\n",
            "Epoch  50 ; train loss =  2.304309687728882 ; accuracy =  0.1\n",
            "Epoch  51 ; train loss =  2.303938518295288 ; accuracy =  0.1\n",
            "Epoch  52 ; train loss =  2.3042616233825686 ; accuracy =  0.1\n",
            "Epoch  53 ; train loss =  2.3040742655944824 ; accuracy =  0.1\n",
            "Epoch  54 ; train loss =  2.303965749206543 ; accuracy =  0.1\n",
            "Epoch  55 ; train loss =  2.303969049682617 ; accuracy =  0.1\n",
            "Epoch  56 ; train loss =  2.303894009475708 ; accuracy =  0.1\n",
            "Epoch  57 ; train loss =  2.3043483139801024 ; accuracy =  0.1\n",
            "Epoch  58 ; train loss =  2.3040720277404785 ; accuracy =  0.1\n",
            "Epoch  59 ; train loss =  2.3039720498657226 ; accuracy =  0.1\n",
            "Epoch  60 ; train loss =  2.3040090114593506 ; accuracy =  0.1\n",
            "Epoch  61 ; train loss =  2.304013611373901 ; accuracy =  0.1\n",
            "Epoch  62 ; train loss =  2.3043951852416993 ; accuracy =  0.1\n",
            "Epoch  63 ; train loss =  2.3040851959991455 ; accuracy =  0.1\n",
            "Epoch  64 ; train loss =  2.3041537102508545 ; accuracy =  0.1\n",
            "Epoch  65 ; train loss =  2.3038721099090576 ; accuracy =  0.1\n"
          ]
        },
        {
          "output_type": "error",
          "ename": "KeyboardInterrupt",
          "evalue": "ignored",
          "traceback": [
            "\u001b[0;31m---------------------------------------------------------------------------\u001b[0m",
            "\u001b[0;31mKeyboardInterrupt\u001b[0m                         Traceback (most recent call last)",
            "\u001b[0;32m<ipython-input-7-ce9a6372c51a>\u001b[0m in \u001b[0;36m<module>\u001b[0;34m()\u001b[0m\n\u001b[1;32m     20\u001b[0m         \u001b[0moutputs\u001b[0m \u001b[0;34m=\u001b[0m \u001b[0mnet\u001b[0m\u001b[0;34m(\u001b[0m\u001b[0minputs\u001b[0m\u001b[0;34m)\u001b[0m              \u001b[0;31m# Forward\u001b[0m\u001b[0;34m\u001b[0m\u001b[0;34m\u001b[0m\u001b[0m\n\u001b[1;32m     21\u001b[0m         \u001b[0mloss\u001b[0m \u001b[0;34m=\u001b[0m \u001b[0mcriterion\u001b[0m\u001b[0;34m(\u001b[0m\u001b[0moutputs\u001b[0m\u001b[0;34m,\u001b[0m \u001b[0mlabels\u001b[0m\u001b[0;34m)\u001b[0m\u001b[0;34m\u001b[0m\u001b[0;34m\u001b[0m\u001b[0m\n\u001b[0;32m---> 22\u001b[0;31m         \u001b[0mloss\u001b[0m\u001b[0;34m.\u001b[0m\u001b[0mbackward\u001b[0m\u001b[0;34m(\u001b[0m\u001b[0;34m)\u001b[0m                    \u001b[0;31m# Backward\u001b[0m\u001b[0;34m\u001b[0m\u001b[0;34m\u001b[0m\u001b[0m\n\u001b[0m\u001b[1;32m     23\u001b[0m         \u001b[0moptimizer\u001b[0m\u001b[0;34m.\u001b[0m\u001b[0mstep\u001b[0m\u001b[0;34m(\u001b[0m\u001b[0;34m)\u001b[0m                   \u001b[0;31m# optimize\u001b[0m\u001b[0;34m\u001b[0m\u001b[0;34m\u001b[0m\u001b[0m\n\u001b[1;32m     24\u001b[0m \u001b[0;34m\u001b[0m\u001b[0m\n",
            "\u001b[0;32m/usr/local/lib/python3.7/dist-packages/torch/_tensor.py\u001b[0m in \u001b[0;36mbackward\u001b[0;34m(self, gradient, retain_graph, create_graph, inputs)\u001b[0m\n\u001b[1;32m    305\u001b[0m                 \u001b[0mcreate_graph\u001b[0m\u001b[0;34m=\u001b[0m\u001b[0mcreate_graph\u001b[0m\u001b[0;34m,\u001b[0m\u001b[0;34m\u001b[0m\u001b[0;34m\u001b[0m\u001b[0m\n\u001b[1;32m    306\u001b[0m                 inputs=inputs)\n\u001b[0;32m--> 307\u001b[0;31m         \u001b[0mtorch\u001b[0m\u001b[0;34m.\u001b[0m\u001b[0mautograd\u001b[0m\u001b[0;34m.\u001b[0m\u001b[0mbackward\u001b[0m\u001b[0;34m(\u001b[0m\u001b[0mself\u001b[0m\u001b[0;34m,\u001b[0m \u001b[0mgradient\u001b[0m\u001b[0;34m,\u001b[0m \u001b[0mretain_graph\u001b[0m\u001b[0;34m,\u001b[0m \u001b[0mcreate_graph\u001b[0m\u001b[0;34m,\u001b[0m \u001b[0minputs\u001b[0m\u001b[0;34m=\u001b[0m\u001b[0minputs\u001b[0m\u001b[0;34m)\u001b[0m\u001b[0;34m\u001b[0m\u001b[0;34m\u001b[0m\u001b[0m\n\u001b[0m\u001b[1;32m    308\u001b[0m \u001b[0;34m\u001b[0m\u001b[0m\n\u001b[1;32m    309\u001b[0m     \u001b[0;32mdef\u001b[0m \u001b[0mregister_hook\u001b[0m\u001b[0;34m(\u001b[0m\u001b[0mself\u001b[0m\u001b[0;34m,\u001b[0m \u001b[0mhook\u001b[0m\u001b[0;34m)\u001b[0m\u001b[0;34m:\u001b[0m\u001b[0;34m\u001b[0m\u001b[0;34m\u001b[0m\u001b[0m\n",
            "\u001b[0;32m/usr/local/lib/python3.7/dist-packages/torch/autograd/__init__.py\u001b[0m in \u001b[0;36mbackward\u001b[0;34m(tensors, grad_tensors, retain_graph, create_graph, grad_variables, inputs)\u001b[0m\n\u001b[1;32m    154\u001b[0m     Variable._execution_engine.run_backward(\n\u001b[1;32m    155\u001b[0m         \u001b[0mtensors\u001b[0m\u001b[0;34m,\u001b[0m \u001b[0mgrad_tensors_\u001b[0m\u001b[0;34m,\u001b[0m \u001b[0mretain_graph\u001b[0m\u001b[0;34m,\u001b[0m \u001b[0mcreate_graph\u001b[0m\u001b[0;34m,\u001b[0m \u001b[0minputs\u001b[0m\u001b[0;34m,\u001b[0m\u001b[0;34m\u001b[0m\u001b[0;34m\u001b[0m\u001b[0m\n\u001b[0;32m--> 156\u001b[0;31m         allow_unreachable=True, accumulate_grad=True)  # allow_unreachable flag\n\u001b[0m\u001b[1;32m    157\u001b[0m \u001b[0;34m\u001b[0m\u001b[0m\n\u001b[1;32m    158\u001b[0m \u001b[0;34m\u001b[0m\u001b[0m\n",
            "\u001b[0;31mKeyboardInterrupt\u001b[0m: "
          ]
        }
      ],
      "source": [
        "###############################################\n",
        "#   * Fixer les paramètres de l'entraînement   #\n",
        "###############################################\n",
        "  \n",
        "nb_epoch = 100 # Le nombre d'epoch\n",
        "loss_list = [] # liste qui va contenir la valeur du loss a chaque epoch\n",
        "accuracy_list = []\n",
        "for epoch in range(nb_epoch):  # loop over the dataset multiple times\n",
        "\n",
        "    running_loss = 0.0\n",
        "    nb_data = 0.\n",
        "    for i, data in enumerate(trainloader, 0):\n",
        "        # get the inputs; data is a list of [inputs, labels]\n",
        "        inputs, labels = data\n",
        "\n",
        "        # zero the parameter gradients\n",
        "        optimizer.zero_grad()\n",
        "\n",
        "        # forward + backward + optimize\n",
        "        outputs = net(inputs)              # Forward\n",
        "        loss = criterion(outputs, labels)\n",
        "        loss.backward()                    # Backward\n",
        "        optimizer.step()                   # optimize\n",
        " \n",
        "        # print statistics\n",
        "        running_loss += loss.item()\n",
        "        \n",
        "        nb_data += 1.\n",
        "        \n",
        "    running_loss = running_loss / nb_data\n",
        "    loss_list.append(running_loss)  \n",
        "    \n",
        "    correct = 0.\n",
        "    total = 0.\n",
        "    with torch.no_grad():\n",
        "        for data in testloader:\n",
        "            images, labels = data\n",
        "            outputs = net(images)\n",
        "            _, predicted = torch.max(outputs.data, 1)\n",
        "            total += labels.size(0)\n",
        "            correct += (predicted == labels).sum().item()\n",
        "    \n",
        "    accuracy_list.append(correct / total)\n",
        "    \n",
        "    print(\"Epoch \", epoch, \"; train loss = \", running_loss, \"; accuracy = \", correct / total) \n",
        "    \n",
        "torch.save({\n",
        "                'nb_epoch': nb_epoch,\n",
        "                'model' : net.state_dict(),\n",
        "                'listLoss': loss_list,\n",
        "            }, \"modelNN.pth\")\n",
        "\n",
        "print('Finished Training and save the model as `modelNN.pth`')"
      ]
    },
    {
      "cell_type": "markdown",
      "metadata": {
        "id": "TiTWc_KFGkjM"
      },
      "source": [
        "### Tracer la courbe du loss"
      ]
    },
    {
      "cell_type": "code",
      "execution_count": 8,
      "metadata": {
        "colab": {
          "base_uri": "https://localhost:8080/",
          "height": 295
        },
        "id": "b4cwwwZfGkjM",
        "outputId": "f82113da-0ab6-41d2-c952-a0d4130f6384"
      },
      "outputs": [
        {
          "output_type": "display_data",
          "data": {
            "image/png": "[encoded data removed]",
            "text/plain": [
              "<Figure size 432x288 with 2 Axes>"
            ]
          },
          "metadata": {
            "needs_background": "light"
          }
        }
      ],
      "source": [
        "plt.subplot(1,2,1)\n",
        "plt.plot(range(len(loss_list)), loss_list)\n",
        "\n",
        "plt.xlabel(\"Epochs\")\n",
        "plt.ylabel(\"Loss\")\n",
        "plt.title(\"loss curve\")\n",
        "\n",
        "plt.subplot(1,2,2)\n",
        "plt.plot(range(len(accuracy_list)), accuracy_list)\n",
        "\n",
        "plt.xlabel(\"Accuracy\")\n",
        "plt.ylabel(\"Loss\")\n",
        "plt.title(\"accuracy curve\")\n",
        "\n",
        "\n",
        "plt.show()"
      ]
    },
    {
      "cell_type": "markdown",
      "metadata": {
        "id": "EldfpP3KGkjN"
      },
      "source": [
        "### Tester le modèle sur les données de test"
      ]
    },
    {
      "cell_type": "code",
      "execution_count": 9,
      "metadata": {
        "colab": {
          "base_uri": "https://localhost:8080/",
          "height": 171
        },
        "id": "djb5Bgn3GkjN",
        "outputId": "825851a5-8af6-4911-9886-c93df84a33fb"
      },
      "outputs": [
        {
          "output_type": "display_data",
          "data": {
            "image/png": "[encoded data removed]",
            "text/plain": [
              "<Figure size 432x288 with 1 Axes>"
            ]
          },
          "metadata": {
            "needs_background": "light"
          }
        },
        {
          "output_type": "stream",
          "name": "stdout",
          "text": [
            "GroundTruth:    cat  ship  ship plane  frog  frog   car  frog   cat   car plane truck   dog horse truck  ship\n",
            "Predicted:    cat   cat   cat   cat   cat   cat   cat   cat   cat   cat   cat   cat   cat   cat   cat   cat\n"
          ]
        }
      ],
      "source": [
        "# Charger un batch de l'ensemble de test\n",
        "dataiter = iter(testloader)\n",
        "images, labels = dataiter.next()\n",
        "\n",
        "# Passer le batch dans le reseau\n",
        "outputs = net(images)\n",
        "predicted1 = torch.softmax(outputs.data, 1) #decision probabiliste (floue)\n",
        "\n",
        "_, predicted2 = torch.max(predicted1, 1) #decision dure (classification)\n",
        "\n",
        "\n",
        "# print images\n",
        "imshow(torchvision.utils.make_grid(images))\n",
        "print('GroundTruth: ', ' '.join('%5s' % classes[labels[j]] for j in range(16)))\n",
        "print('Predicted: ', ' '.join('%5s' % classes[predicted2[j]] for j in range(16)))"
      ]
    },
    {
      "cell_type": "markdown",
      "metadata": {
        "id": "r16WNcDdGkjN"
      },
      "source": [
        "## Evaluation du modèle\n",
        "\n",
        "### Taux de reconnaissance global"
      ]
    },
    {
      "cell_type": "code",
      "execution_count": 10,
      "metadata": {
        "colab": {
          "base_uri": "https://localhost:8080/"
        },
        "id": "z3ftFoVcGkjO",
        "outputId": "5fbddc65-e583-4786-e4e9-8496b83b1bea"
      },
      "outputs": [
        {
          "output_type": "stream",
          "name": "stdout",
          "text": [
            "Accuracy of the network on the 10000 test images: 10.000000 %\n"
          ]
        }
      ],
      "source": [
        "correct = 0.\n",
        "total = 0.\n",
        "with torch.no_grad():\n",
        "    for data in testloader:\n",
        "        images, labels = data\n",
        "        outputs = net(images)\n",
        "        _, predicted = torch.max(outputs.data, 1)\n",
        "        total += labels.size(0)\n",
        "        correct += (predicted == labels).sum().item()\n",
        "\n",
        "print('Accuracy of the network on the 10000 test images: %f %%' % ( 100. * correct / total))"
      ]
    },
    {
      "cell_type": "markdown",
      "metadata": {
        "id": "j2w-72XVGkjO"
      },
      "source": [
        "### Taux de reconnaissance de chacune des classes"
      ]
    },
    {
      "cell_type": "code",
      "execution_count": 11,
      "metadata": {
        "colab": {
          "base_uri": "https://localhost:8080/"
        },
        "id": "QIlx3jkSGkjO",
        "outputId": "b7f3517f-e101-4424-daf2-c09a856087a4"
      },
      "outputs": [
        {
          "output_type": "stream",
          "name": "stdout",
          "text": [
            "Accuracy of plane : 0.000000 %\n",
            "Accuracy of   car : 0.000000 %\n",
            "Accuracy of  bird : 0.000000 %\n",
            "Accuracy of   cat : 100.000000 %\n",
            "Accuracy of  deer : 0.000000 %\n",
            "Accuracy of   dog : 0.000000 %\n",
            "Accuracy of  frog : 0.000000 %\n",
            "Accuracy of horse : 0.000000 %\n",
            "Accuracy of  ship : 0.000000 %\n",
            "Accuracy of truck : 0.000000 %\n"
          ]
        }
      ],
      "source": [
        "class_correct = list(0. for i in range(10))\n",
        "class_total = list(0. for i in range(10))\n",
        "with torch.no_grad():\n",
        "    for data in testloader:\n",
        "        images, labels = data\n",
        "        outputs = net(images)\n",
        "        _, predicted = torch.max(outputs, 1)\n",
        "        c = (predicted == labels).squeeze()\n",
        "        for i in range(4):\n",
        "            label = labels[i]\n",
        "            class_correct[label] += c[i].item()\n",
        "            class_total[label] += 1\n",
        "\n",
        "\n",
        "for i in range(10):\n",
        "    print('Accuracy of %5s : %f %%' % (classes[i], 100. * class_correct[i] / class_total[i]))"
      ]
    },
    {
      "cell_type": "markdown",
      "metadata": {
        "id": "oinHxb8bGkjP"
      },
      "source": [
        "## Exercices - A vous de jouer ...\n",
        "* 1) Essayer de faire varier le nombre d'epochs pour améliorer la capacité du réseau à discriminer les différentes catégories d'images. Quel est le nombre d'epochs optimal ?\n",
        "\n",
        "* 2) Pour ne pas tomber dans un phénomène de sur-apprentissage, modifier le code donné ci-dessus pour intégrer un ensemble de validation qui permet de déterminer les hyper-paramètres du réseau et notamment un nombre d'epochs adapté. \n",
        "\n",
        "* 3) Essayer de modifier l'architecture du réseau pour améliorer le taux de reconnaissance de ce dernier. Vous devez faire attention au nombre de filtres utilisés et à la dimension des données de sortie.\n",
        "\n",
        "* 4) Proposer une interface permettant de visualiser les sorties des filtres de la première couche.\n",
        "\n",
        "* 5) Refaire cet exercice en utilisant un autre réseau comme SqueezeNet déjà pré-entrainé sur ImageNet que vous affiner (fine-tuning) sur les classes de CIFAR10."
      ]
    },
    {
      "cell_type": "code",
      "execution_count": null,
      "metadata": {
        "id": "XnfKZhLRGkjP"
      },
      "outputs": [],
      "source": [
        ""
      ]
    },
    {
      "cell_type": "code",
      "source": [
        ""
      ],
      "metadata": {
        "id": "DS5uRDhYHzVx"
      },
      "execution_count": null,
      "outputs": []
    },
    {
      "cell_type": "markdown",
      "source": [
        "# Ajout d'un ensemble de validation"
      ],
      "metadata": {
        "id": "fgli_EHBH4Eb"
      }
    },
    {
      "cell_type": "code",
      "source": [
        "from torch.utils.data import random_split\n",
        "val_size = 5000\n",
        "train_size = len(trainset) - val_size\n",
        "\n",
        "train_data, val_data = random_split(trainset, [train_size, val_size])\n",
        "len(train_data), len(val_data)"
      ],
      "metadata": {
        "colab": {
          "base_uri": "https://localhost:8080/"
        },
        "id": "-xINkCWGH537",
        "outputId": "eea77546-a0e7-4819-9db0-7b1afa0c900d"
      },
      "execution_count": 8,
      "outputs": [
        {
          "output_type": "execute_result",
          "data": {
            "text/plain": [
              "(45000, 5000)"
            ]
          },
          "metadata": {},
          "execution_count": 8
        }
      ]
    },
    {
      "cell_type": "markdown",
      "source": [
        "**Question 1 :** C'est clair que l'accuracy ne dépasse pas le 50% après 50 epoch donc le nombre optimal est 50 "
      ],
      "metadata": {
        "id": "uBpQLFBNlDHU"
      }
    },
    {
      "cell_type": "code",
      "source": [
        "from torch.utils.data.dataloader import DataLoader\n",
        "\n",
        "batch_size=64\n",
        "dl_train = DataLoader(train_data, batch_size, shuffle=True, num_workers=4, pin_memory=True)\n",
        "dl_valid = DataLoader(val_data, batch_size, num_workers=4, pin_memory=True)"
      ],
      "metadata": {
        "colab": {
          "base_uri": "https://localhost:8080/"
        },
        "id": "Ns4wVxgUYepK",
        "outputId": "ad05eb08-0958-482e-ef08-2ed778008f89"
      },
      "execution_count": 9,
      "outputs": [
        {
          "output_type": "stream",
          "name": "stderr",
          "text": [
            "/usr/local/lib/python3.7/dist-packages/torch/utils/data/dataloader.py:481: UserWarning: This DataLoader will create 4 worker processes in total. Our suggested max number of worker in current system is 2, which is smaller than what this DataLoader is going to create. Please be aware that excessive worker creation might get DataLoader running slow or even freeze, lower the worker number to avoid potential slowness/freeze if necessary.\n",
            "  cpuset_checked))\n"
          ]
        }
      ]
    },
    {
      "cell_type": "code",
      "source": [
        ""
      ],
      "metadata": {
        "id": "vMQXlnL4YoNg"
      },
      "execution_count": 58,
      "outputs": []
    },
    {
      "cell_type": "markdown",
      "source": [
        "\n",
        "\n",
        "\n",
        "# Modification de l'architecture du réseau"
      ],
      "metadata": {
        "id": "4jwvWQ2wYsXJ"
      }
    },
    {
      "cell_type": "markdown",
      "source": [
        "## **Définition des fonctions train et validation**"
      ],
      "metadata": {
        "id": "mEK-cM30Y6hi"
      }
    },
    {
      "cell_type": "code",
      "source": [
        "def to_device(data, device):\n",
        "    \"\"\"Move tensor(s) to chosen device\"\"\"\n",
        "    if isinstance(data, (list,tuple)):\n",
        "        return [to_device(x, device) for x in data]\n",
        "    return data.to(device, non_blocking=True)\n",
        "\n",
        "class DeviceDataLoader():\n",
        "    \"\"\"Wrap a dataloader to move data to a device\"\"\"\n",
        "    def __init__(self, dl, device):\n",
        "        self.dl = dl\n",
        "        self.device = device\n",
        "        \n",
        "    def __iter__(self):\n",
        "        \"\"\"Yield a batch of data after moving it to device\"\"\"\n",
        "        for b in self.dl: \n",
        "            yield to_device(b, self.device)\n",
        "\n",
        "    def __len__(self):\n",
        "        \"\"\"Number of batches\"\"\"\n",
        "        return len(self.dl)"
      ],
      "metadata": {
        "id": "ta22SXw2h7Ta"
      },
      "execution_count": 10,
      "outputs": []
    },
    {
      "cell_type": "code",
      "source": [
        "from os import device_encoding\n",
        "def accuracy(outputs, labels):\n",
        "\n",
        "    _, preds = torch.max(outputs, dim=1)\n",
        "    return torch.tensor(torch.sum(preds == labels).item() / len(preds))\n",
        "\n",
        "class classificationModel(nn.Module):\n",
        "    def training_step(self, batch):\n",
        "        images, labels = batch \n",
        "        out = self(images)                  # Generate predictions\n",
        "        out,labels = out.to(device),labels.to(device)\n",
        "        loss = F.cross_entropy(out, labels) # Calculate loss\n",
        "        accu = accuracy(out,labels)\n",
        "        return loss,accu\n",
        "    \n",
        "    def validation_step(self, batch):\n",
        "        images, labels = batch \n",
        "        out = self(images)                    # Generate predictions\n",
        "        loss = F.cross_entropy(out, labels)   # Calculate loss\n",
        "        acc = accuracy(out, labels)           # Calculate accuracy\n",
        "        return {'Loss': loss.detach(), 'Accuracy': acc}\n",
        "        \n",
        "    def validation_epoch_end(self, outputs):\n",
        "        batch_losses = [x['Loss'] for x in outputs]\n",
        "        epoch_loss = torch.stack(batch_losses).mean()   # Combine losses\n",
        "        batch_accs = [x['Accuracy'] for x in outputs]\n",
        "        epoch_acc = torch.stack(batch_accs).mean()      # Combine accuracies\n",
        "        return {'Loss': epoch_loss.item(), 'Accuracy': epoch_acc.item()}\n",
        "    \n",
        "    def epoch_end(self, epoch, result):\n",
        "        print(\"Epoch :\",epoch + 1)\n",
        "        print(f'Train Accuracy:{result[\"train_accuracy\"]*100:.2f}% Validation Accuracy:{result[\"Accuracy\"]*100:.2f}%')\n",
        "        print(f'Train Loss:{result[\"train_loss\"]:.4f} Validation Loss:{result[\"Loss\"]:.4f}')"
      ],
      "metadata": {
        "id": "1Q0_SdxxY_lg"
      },
      "execution_count": 11,
      "outputs": []
    },
    {
      "cell_type": "markdown",
      "source": [
        "\n",
        "## **Model pour CIFAR 10**"
      ],
      "metadata": {
        "id": "ECWQqvt0Z-yd"
      }
    },
    {
      "cell_type": "code",
      "source": [
        "class Cifar10CnnModel(classificationModel):\n",
        "    def __init__(self):\n",
        "        super().__init__()\n",
        "        self.network = nn.Sequential(\n",
        "            nn.Conv2d(3, 32, kernel_size=3, padding=1),\n",
        "            nn.ReLU(),\n",
        "            nn.Conv2d(32, 64, kernel_size=3, stride=1, padding=1),\n",
        "            nn.ReLU(),\n",
        "            nn.MaxPool2d(2, 2), # output: 64 x 16 x 16\n",
        "            nn.BatchNorm2d(64),\n",
        "\n",
        "            nn.Conv2d(64, 128, kernel_size=3, stride=1, padding=1),\n",
        "            nn.ReLU(),\n",
        "            nn.Conv2d(128, 128, kernel_size=3, stride=1, padding=1),\n",
        "            nn.ReLU(),\n",
        "            nn.MaxPool2d(2, 2), # output: 128 x 8 x 8\n",
        "            nn.BatchNorm2d(128),\n",
        "\n",
        "            nn.Conv2d(128, 256, kernel_size=3, stride=1, padding=1),\n",
        "            nn.ReLU(),\n",
        "            nn.Conv2d(256, 256, kernel_size=3, stride=1, padding=1),\n",
        "            nn.ReLU(),\n",
        "            nn.MaxPool2d(2, 2), # output: 256 x 4 x 4\n",
        "            nn.BatchNorm2d(256),\n",
        "\n",
        "            nn.Flatten(), \n",
        "            nn.Linear(256*4*4, 1024),\n",
        "            nn.ReLU(),\n",
        "            nn.Linear(1024, 512),\n",
        "            nn.ReLU(),\n",
        "            nn.Linear(512, 10))\n",
        "        \n",
        "    def forward(self, xb):\n",
        "        return self.network(xb)\n"
      ],
      "metadata": {
        "id": "Jqpmd6XGaGcY"
      },
      "execution_count": 12,
      "outputs": []
    },
    {
      "cell_type": "code",
      "source": [
        "@torch.no_grad()\n",
        "def evaluate(model, data_loader):\n",
        "    model.eval()\n",
        "    outputs = [model.validation_step(batch) for batch in data_loader]\n",
        "    return model.validation_epoch_end(outputs)\n",
        "\n",
        "def train_loop(model, train_loader, val_loader,epochs=10,learning_rate=0.001):\n",
        "    best_valid = None\n",
        "    trace_log = []\n",
        "    optimizer = torch.optim.Adam(model.parameters(), learning_rate,weight_decay=0.0005)\n",
        "    for epoch in range(epochs):\n",
        "        # Training Phase \n",
        "        model.train()\n",
        "        train_losses = []\n",
        "        train_accuracy = []\n",
        "        for batch in tqdm(train_loader):\n",
        "            loss,accu = model.training_step(batch)\n",
        "            train_losses.append(loss)\n",
        "            train_accuracy.append(accu)\n",
        "            loss.backward()\n",
        "            optimizer.step()\n",
        "            optimizer.zero_grad()\n",
        "        # Validation phase\n",
        "        result = evaluate(model, val_loader)\n",
        "        result['train_loss'] = torch.stack(train_losses).mean().item()\n",
        "        result['train_accuracy'] = torch.stack(train_accuracy).mean().item()\n",
        "        model.epoch_end(epoch, result)\n",
        "        if(best_valid == None or best_valid<result['Accuracy']):\n",
        "            best_valid=result['Accuracy']\n",
        "            torch.save(model.state_dict(), 'cifar10-cnn.pth')\n",
        "        trace_log.append(result)\n",
        "    return trace_log"
      ],
      "metadata": {
        "id": "6XZgh2oiasGs"
      },
      "execution_count": 13,
      "outputs": []
    },
    {
      "cell_type": "code",
      "source": [
        "device = torch.device(\"cuda\")\n",
        "train_loader = DeviceDataLoader(dl_train, device)\n",
        "val_loader = DeviceDataLoader(dl_valid, device)\n",
        "test_loader = DeviceDataLoader(testloader, device)\n",
        "\n",
        "\n"
      ],
      "metadata": {
        "id": "UAjhA1nUcGof"
      },
      "execution_count": 14,
      "outputs": []
    },
    {
      "cell_type": "code",
      "source": [
        "model = to_device(Cifar10CnnModel(),device)\n",
        "trace_log = train_loop(model, train_loader, val_loader)"
      ],
      "metadata": {
        "colab": {
          "base_uri": "https://localhost:8080/"
        },
        "id": "rlti_rObcytY",
        "outputId": "7f297e92-6e80-4419-e6e2-5b2dcc055667"
      },
      "execution_count": 67,
      "outputs": [
        {
          "output_type": "stream",
          "name": "stderr",
          "text": [
            "\r  0%|          | 0/704 [00:00<?, ?it/s]/usr/local/lib/python3.7/dist-packages/torch/utils/data/dataloader.py:481: UserWarning: This DataLoader will create 4 worker processes in total. Our suggested max number of worker in current system is 2, which is smaller than what this DataLoader is going to create. Please be aware that excessive worker creation might get DataLoader running slow or even freeze, lower the worker number to avoid potential slowness/freeze if necessary.\n",
            "  cpuset_checked))\n",
            "100%|██████████| 704/704 [00:39<00:00, 17.73it/s]\n"
          ]
        },
        {
          "output_type": "stream",
          "name": "stdout",
          "text": [
            "Epoch : 1\n",
            "Train Accuracy:58.48% Validation Accuracy:68.51%\n",
            "Train Loss:1.1705 Validation Loss:0.9519\n"
          ]
        },
        {
          "output_type": "stream",
          "name": "stderr",
          "text": [
            "100%|██████████| 704/704 [00:40<00:00, 17.48it/s]\n"
          ]
        },
        {
          "output_type": "stream",
          "name": "stdout",
          "text": [
            "Epoch : 2\n",
            "Train Accuracy:74.11% Validation Accuracy:74.66%\n",
            "Train Loss:0.7482 Validation Loss:0.7174\n"
          ]
        },
        {
          "output_type": "stream",
          "name": "stderr",
          "text": [
            "100%|██████████| 704/704 [00:39<00:00, 17.62it/s]\n"
          ]
        },
        {
          "output_type": "stream",
          "name": "stdout",
          "text": [
            "Epoch : 3\n",
            "Train Accuracy:79.75% Validation Accuracy:78.28%\n",
            "Train Loss:0.5945 Validation Loss:0.6256\n"
          ]
        },
        {
          "output_type": "stream",
          "name": "stderr",
          "text": [
            "100%|██████████| 704/704 [00:39<00:00, 17.65it/s]\n"
          ]
        },
        {
          "output_type": "stream",
          "name": "stdout",
          "text": [
            "Epoch : 4\n",
            "Train Accuracy:82.55% Validation Accuracy:79.59%\n",
            "Train Loss:0.5082 Validation Loss:0.6102\n"
          ]
        },
        {
          "output_type": "stream",
          "name": "stderr",
          "text": [
            "100%|██████████| 704/704 [00:39<00:00, 17.61it/s]\n"
          ]
        },
        {
          "output_type": "stream",
          "name": "stdout",
          "text": [
            "Epoch : 5\n",
            "Train Accuracy:85.14% Validation Accuracy:80.24%\n",
            "Train Loss:0.4371 Validation Loss:0.5979\n"
          ]
        },
        {
          "output_type": "stream",
          "name": "stderr",
          "text": [
            "100%|██████████| 704/704 [00:39<00:00, 17.65it/s]\n"
          ]
        },
        {
          "output_type": "stream",
          "name": "stdout",
          "text": [
            "Epoch : 6\n",
            "Train Accuracy:87.14% Validation Accuracy:80.91%\n",
            "Train Loss:0.3761 Validation Loss:0.5813\n"
          ]
        },
        {
          "output_type": "stream",
          "name": "stderr",
          "text": [
            "100%|██████████| 704/704 [00:39<00:00, 17.71it/s]\n"
          ]
        },
        {
          "output_type": "stream",
          "name": "stdout",
          "text": [
            "Epoch : 7\n",
            "Train Accuracy:88.09% Validation Accuracy:83.33%\n",
            "Train Loss:0.3464 Validation Loss:0.5189\n"
          ]
        },
        {
          "output_type": "stream",
          "name": "stderr",
          "text": [
            "100%|██████████| 704/704 [00:39<00:00, 17.62it/s]\n"
          ]
        },
        {
          "output_type": "stream",
          "name": "stdout",
          "text": [
            "Epoch : 8\n",
            "Train Accuracy:89.78% Validation Accuracy:83.19%\n",
            "Train Loss:0.2962 Validation Loss:0.5071\n"
          ]
        },
        {
          "output_type": "stream",
          "name": "stderr",
          "text": [
            "100%|██████████| 704/704 [00:39<00:00, 17.73it/s]\n"
          ]
        },
        {
          "output_type": "stream",
          "name": "stdout",
          "text": [
            "Epoch : 9\n",
            "Train Accuracy:91.04% Validation Accuracy:82.44%\n",
            "Train Loss:0.2597 Validation Loss:0.5530\n"
          ]
        },
        {
          "output_type": "stream",
          "name": "stderr",
          "text": [
            "100%|██████████| 704/704 [00:39<00:00, 17.78it/s]\n"
          ]
        },
        {
          "output_type": "stream",
          "name": "stdout",
          "text": [
            "Epoch : 10\n",
            "Train Accuracy:91.58% Validation Accuracy:83.01%\n",
            "Train Loss:0.2376 Validation Loss:0.5600\n"
          ]
        }
      ]
    },
    {
      "cell_type": "code",
      "source": [
        "def plot_accuracies(trace_log):\n",
        "    Validation_accuracies = [x['Accuracy'] for x in trace_log]\n",
        "    Training_Accuracies = [x['train_accuracy'] for x in trace_log]\n",
        "    plt.plot(Training_Accuracies, '-rx')\n",
        "    plt.plot(Validation_accuracies, '-bx')\n",
        "    plt.xlabel('epoch')\n",
        "    plt.ylabel('accuracy')\n",
        "    plt.legend(['Training', 'Validation'])\n",
        "    plt.title('Accuracy vs. No. of epochs');\n",
        "plot_accuracies(trace_log)"
      ],
      "metadata": {
        "colab": {
          "base_uri": "https://localhost:8080/",
          "height": 295
        },
        "id": "_JbxZo8_mw39",
        "outputId": "ecbce1cd-7e72-4752-83d5-a71624a34174"
      },
      "execution_count": 68,
      "outputs": [
        {
          "output_type": "display_data",
          "data": {
            "image/png": "[encoded data removed]",
            "text/plain": [
              "<Figure size 432x288 with 1 Axes>"
            ]
          },
          "metadata": {
            "needs_background": "light"
          }
        }
      ]
    },
    {
      "cell_type": "code",
      "source": [
        "def plot_losses(trace_log):\n",
        "    train_losses = [x.get('train_loss') for x in trace_log]\n",
        "    val_losses = [x['Loss'] for x in trace_log]\n",
        "    plt.plot(train_losses, '-bx')\n",
        "    plt.plot(val_losses, '-rx')\n",
        "    plt.xlabel('epoch')\n",
        "    plt.ylabel('loss')\n",
        "    plt.legend(['Training', 'Validation'])\n",
        "    plt.title('Loss vs. No. of epochs');\n",
        "plot_losses(trace_log)"
      ],
      "metadata": {
        "colab": {
          "base_uri": "https://localhost:8080/",
          "height": 295
        },
        "id": "8p5su7kZquh4",
        "outputId": "521e39dd-d92b-4963-96b2-773503ef831d"
      },
      "execution_count": 69,
      "outputs": [
        {
          "output_type": "display_data",
          "data": {
            "image/png": "[encoded data removed]",
            "text/plain": [
              "<Figure size 432x288 with 1 Axes>"
            ]
          },
          "metadata": {
            "needs_background": "light"
          }
        }
      ]
    },
    {
      "cell_type": "code",
      "source": [
        "result = evaluate(model, test_loader)\n",
        "print(f'Test Accuracy:{result[\"Accuracy\"]*100:.2f}%')"
      ],
      "metadata": {
        "colab": {
          "base_uri": "https://localhost:8080/"
        },
        "id": "DQr9Lrqjq4St",
        "outputId": "6398e0f6-08fa-44ab-cb1f-6758a5d6388e"
      },
      "execution_count": 73,
      "outputs": [
        {
          "output_type": "stream",
          "name": "stdout",
          "text": [
            "Test Accuracy:82.62%\n"
          ]
        }
      ]
    },
    {
      "cell_type": "markdown",
      "source": [
        "**Test accuracy  82.6 %**\n"
      ],
      "metadata": {
        "id": "nhn42wnDWBC9"
      }
    },
    {
      "cell_type": "code",
      "source": [
        ""
      ],
      "metadata": {
        "id": "22PWThf4sGVI"
      },
      "execution_count": null,
      "outputs": []
    },
    {
      "cell_type": "markdown",
      "source": [
        "# Utilisation d'un modele pré entrainé VGG 16"
      ],
      "metadata": {
        "id": "h3xmaiqjse0B"
      }
    },
    {
      "cell_type": "code",
      "source": [
        "model = models.vgg16(pretrained = True)\n",
        "input_lastLayer = model.classifier[6].in_features\n",
        "model.classifier[6] = nn.Linear(input_lastLayer,10)\n",
        "model = model.to(device)\n",
        "criterion = nn.CrossEntropyLoss()\n",
        "optimizer = torch.optim.SGD(model.parameters(), lr = 0.001, momentum=0.9,weight_decay=5e-4)\n",
        "n_total_step = len(train_loader)"
      ],
      "metadata": {
        "colab": {
          "base_uri": "https://localhost:8080/",
          "height": 66,
          "referenced_widgets": [
            "b259336c20af4f359b1313ba009ed36d",
            "3b9c68f172bd4fe29832ccccb3b01036",
            "348070a0eb7044e9af219236ecc1b9ea",
            "41ba5c58cc5a42568a17d1aebc1121c4",
            "67e1125829b54e31b9844c6a4a55d4de",
            "69d237f76d604406ab87e21e9b1ab14d",
            "3e38a37e096f40c182c2c09bdd8c5da7",
            "424012ff64ca452882d87d960f1d617d",
            "aea591e60fcc417b93bd651d5eeabf33",
            "cd6f8c009dec498880114587c67bedea",
            "ad023b4bb6634367b9d86e5d39e049ff"
          ]
        },
        "id": "YpPCB7Gesixr",
        "outputId": "6567da98-0b12-47f0-f1e0-27d8f05350d1"
      },
      "execution_count": 48,
      "outputs": [
        {
          "output_type": "stream",
          "name": "stderr",
          "text": [
            "Downloading: \"https://download.pytorch.org/models/vgg16-397923af.pth\" to /root/.cache/torch/hub/checkpoints/vgg16-397923af.pth\n"
          ]
        },
        {
          "output_type": "display_data",
          "data": {
            "application/vnd.jupyter.widget-view+json": {
              "model_id": "b259336c20af4f359b1313ba009ed36d",
              "version_minor": 0,
              "version_major": 2
            },
            "text/plain": [
              "  0%|          | 0.00/528M [00:00<?, ?B/s]"
            ]
          },
          "metadata": {}
        }
      ]
    },
    {
      "cell_type": "code",
      "source": [
        "for epoch in range(10):\n",
        "    for i, (imgs , labels) in enumerate(train_loader):\n",
        "        imgs = imgs.to(device)\n",
        "        labels = labels.to(device)\n",
        "\n",
        "        labels_hat = model(imgs)\n",
        "        n_corrects = (labels_hat.argmax(axis=1)==labels).sum().item()\n",
        "        loss_value = criterion(labels_hat, labels)\n",
        "        loss_value.backward()\n",
        "        optimizer.step()\n",
        "        optimizer.zero_grad()\n",
        "        if (i+1) % 250 == 0:\n",
        "           print(f'epoch {epoch+1}/{10}, step: {i+1}/{n_total_step}: loss = {loss_value:.5f}, acc = {100*(n_corrects/labels.size(0)):.2f}%')\n",
        "    print()"
      ],
      "metadata": {
        "colab": {
          "base_uri": "https://localhost:8080/"
        },
        "id": "pAt9QDphslq9",
        "outputId": "ec25e68b-725a-41db-8321-8a37a6f3ef1f"
      },
      "execution_count": 49,
      "outputs": [
        {
          "output_type": "stream",
          "name": "stderr",
          "text": [
            "/usr/local/lib/python3.7/dist-packages/torch/utils/data/dataloader.py:481: UserWarning: This DataLoader will create 4 worker processes in total. Our suggested max number of worker in current system is 2, which is smaller than what this DataLoader is going to create. Please be aware that excessive worker creation might get DataLoader running slow or even freeze, lower the worker number to avoid potential slowness/freeze if necessary.\n",
            "  cpuset_checked))\n"
          ]
        },
        {
          "output_type": "stream",
          "name": "stdout",
          "text": [
            "epoch 1/10, step: 250/704: loss = 0.47684, acc = 82.81%\n",
            "epoch 1/10, step: 500/704: loss = 0.64107, acc = 78.12%\n",
            "\n",
            "epoch 2/10, step: 250/704: loss = 0.37326, acc = 90.62%\n",
            "epoch 2/10, step: 500/704: loss = 0.40202, acc = 85.94%\n",
            "\n",
            "epoch 3/10, step: 250/704: loss = 0.33086, acc = 85.94%\n",
            "epoch 3/10, step: 500/704: loss = 0.30415, acc = 92.19%\n",
            "\n",
            "epoch 4/10, step: 250/704: loss = 0.18730, acc = 95.31%\n",
            "epoch 4/10, step: 500/704: loss = 0.32026, acc = 89.06%\n",
            "\n",
            "epoch 5/10, step: 250/704: loss = 0.16960, acc = 92.19%\n",
            "epoch 5/10, step: 500/704: loss = 0.18188, acc = 95.31%\n",
            "\n",
            "epoch 6/10, step: 250/704: loss = 0.09794, acc = 95.31%\n",
            "epoch 6/10, step: 500/704: loss = 0.03183, acc = 100.00%\n",
            "\n",
            "epoch 7/10, step: 250/704: loss = 0.16024, acc = 95.31%\n",
            "epoch 7/10, step: 500/704: loss = 0.11156, acc = 96.88%\n",
            "\n",
            "epoch 8/10, step: 250/704: loss = 0.02595, acc = 100.00%\n",
            "epoch 8/10, step: 500/704: loss = 0.03647, acc = 100.00%\n",
            "\n",
            "epoch 9/10, step: 250/704: loss = 0.06721, acc = 98.44%\n",
            "epoch 9/10, step: 500/704: loss = 0.12404, acc = 98.44%\n",
            "\n",
            "epoch 10/10, step: 250/704: loss = 0.01242, acc = 100.00%\n",
            "epoch 10/10, step: 500/704: loss = 0.00429, acc = 100.00%\n",
            "\n"
          ]
        }
      ]
    },
    {
      "cell_type": "code",
      "source": [
        "with torch.no_grad():\n",
        "    number_corrects = 0\n",
        "    number_samples = 0\n",
        "    for i, (test_images_set , test_labels_set) in enumerate(test_loader):\n",
        "        test_images_set = test_images_set.to(device)\n",
        "        test_labels_set = test_labels_set.to(device)\n",
        "    \n",
        "        y_predicted = model(test_images_set)\n",
        "        labels_predicted = y_predicted.argmax(axis = 1)\n",
        "        number_corrects += (labels_predicted==test_labels_set).sum().item()\n",
        "        number_samples += test_labels_set.size(0)\n",
        "    print(f'Overall accuracy {(number_corrects / number_samples)*100}%')"
      ],
      "metadata": {
        "colab": {
          "base_uri": "https://localhost:8080/"
        },
        "id": "Jz-oC_aHtDVV",
        "outputId": "799e299d-bdba-4981-94d1-924b2fe8d6e8"
      },
      "execution_count": 50,
      "outputs": [
        {
          "output_type": "stream",
          "name": "stdout",
          "text": [
            "Overall accuracy 87.03999999999999%\n"
          ]
        }
      ]
    },
    {
      "cell_type": "markdown",
      "source": [
        "**Test accuracy avec VGG prentrainé 87 %**\n"
      ],
      "metadata": {
        "id": "sy-KxmlAVpFi"
      }
    },
    {
      "cell_type": "markdown",
      "source": [
        "# Visualiasation d'un feature map du premier filtre de convolution"
      ],
      "metadata": {
        "id": "9EL4QEbBU-xf"
      }
    },
    {
      "cell_type": "markdown",
      "source": [
        "**J'ai recontré des problèmes en essayant avec le cifar 10 et le reseau CIFAR10 utilisé ci-dessus alors j'ai utilisé MNIST et un autre réseau juste pour démonstration**"
      ],
      "metadata": {
        "id": "mRvwZTQxVO_7"
      }
    },
    {
      "cell_type": "code",
      "source": [
        "class MyModel(nn.Module):\n",
        "    def __init__(self):\n",
        "        super(MyModel, self).__init__()\n",
        "        self.conv1 = nn.Conv2d(1, 3, 3, 1, 1)\n",
        "        self.pool1 = nn.MaxPool2d(2)\n",
        "        self.conv2 = nn.Conv2d(3, 6, 3, 1, 1)\n",
        "        self.pool2 = nn.MaxPool2d(2)\n",
        "        \n",
        "        self.conv_trans1 = nn.ConvTranspose2d(6, 3, 4, 2, 1)\n",
        "        self.conv_trans2 = nn.ConvTranspose2d(3, 1, 4, 2, 1)\n",
        "        \n",
        "    def forward(self, x):\n",
        "        x = F.relu(self.pool1(self.conv1(x)))\n",
        "        x = F.relu(self.pool2(self.conv2(x)))        \n",
        "        x = F.relu(self.conv_trans1(x))\n",
        "        x = self.conv_trans2(x)\n",
        "        return x\n",
        "\n",
        "dataset =torchvision.datasets.MNIST(\n",
        "    root='./data',\n",
        "    download=True,\n",
        "    transform=transforms.ToTensor()\n",
        ")\n",
        "loader = DataLoader(\n",
        "    dataset,\n",
        "    num_workers=2,\n",
        "    batch_size=8,\n",
        "    shuffle=True\n",
        ")\n",
        "\n",
        "model = MyModel()\n",
        "criterion = nn.BCEWithLogitsLoss()\n",
        "optimizer = optim.Adam(model.parameters(), lr=1e-3)\n",
        "\n",
        "epochs = 1\n",
        "for epoch in range(epochs):\n",
        "    for batch_idx, (data, target) in enumerate(loader):\n",
        "        optimizer.zero_grad()\n",
        "        output = model(data)\n",
        "        loss = criterion(output, data)\n",
        "        loss.backward()\n",
        "        optimizer.step()\n",
        "        \n",
        "      \n",
        "\n",
        "\n",
        "def normalize_output(img):\n",
        "    img = img - img.min()\n",
        "    img = img / img.max()\n",
        "    return img\n",
        "\n",
        "# Plot some images\n",
        "idx = torch.randint(0, output.size(0), ())\n",
        "pred = normalize_output(output[idx, 0])\n",
        "img = data[idx, 0]\n",
        "\n",
        "fig, axarr = plt.subplots(1, 2)\n",
        "axarr[0].imshow(img.detach().numpy())\n",
        "axarr[1].imshow(pred.detach().numpy())\n",
        "\n",
        "# Visualize feature maps\n",
        "activation = {}\n",
        "def get_activation(name):\n",
        "    def hook(model, input, output):\n",
        "        activation[name] = output.detach()\n",
        "    return hook\n",
        "\n",
        "model.conv1.register_forward_hook(get_activation('conv1'))\n",
        "data, _ = dataset[0]\n",
        "data.unsqueeze_(0)\n",
        "output = model(data)\n",
        "\n",
        "act = activation['conv1'].squeeze()\n",
        "fig, axarr = plt.subplots(act.size(0))\n",
        "for idx in range(act.size(0)):\n",
        "    axarr[idx].imshow(act[idx])"
      ],
      "metadata": {
        "colab": {
          "base_uri": "https://localhost:8080/",
          "height": 452
        },
        "id": "c-vfYnLmyQuW",
        "outputId": "dc65102d-e504-4749-af01-311daf59d5e2"
      },
      "execution_count": 55,
      "outputs": [
        {
          "output_type": "display_data",
          "data": {
            "image/png": "[encoded data removed]",
            "text/plain": [
              "<Figure size 432x288 with 2 Axes>"
            ]
          },
          "metadata": {
            "needs_background": "light"
          }
        },
        {
          "output_type": "display_data",
          "data": {
            "image/png": "[encoded data removed]",
            "text/plain": [
              "<Figure size 432x288 with 3 Axes>"
            ]
          },
          "metadata": {
            "needs_background": "light"
          }
        }
      ]
    },
    {
      "cell_type": "code",
      "source": [
        ""
      ],
      "metadata": {
        "id": "9SVtJLu2U72C"
      },
      "execution_count": null,
      "outputs": []
    }
  ],
  "metadata": {
    "kernelspec": {
      "display_name": "Python 3",
      "language": "python",
      "name": "python3"
    },
    "language_info": {
      "codemirror_mode": {
        "name": "ipython",
        "version": 3
      },
      "file_extension": ".py",
      "mimetype": "text/x-python",
      "name": "python",
      "nbconvert_exporter": "python",
      "pygments_lexer": "ipython3",
      "version": "3.7.3"
    },
    "colab": {
      "name": "Image Classification_KHIATI_R.Noureddine.ipynb",
      "provenance": [],
      "toc_visible": true
    },
    "accelerator": "GPU",
    "widgets": {
      "application/vnd.jupyter.widget-state+json": {
        "148ed8a747464555a769cb40ce5bdd1f": {
          "model_module": "@jupyter-widgets/controls",
          "model_name": "HBoxModel",
          "model_module_version": "1.5.0",
          "state": {
            "_view_name": "HBoxView",
            "_dom_classes": [],
            "_model_name": "HBoxModel",
            "_view_module": "@jupyter-widgets/controls",
            "_model_module_version": "1.5.0",
            "_view_count": null,
            "_view_module_version": "1.5.0",
            "box_style": "",
            "layout": "IPY_MODEL_4fc41a73bd8a4535bdc8f9f27e4a098b",
            "_model_module": "@jupyter-widgets/controls",
            "children": [
              "IPY_MODEL_9671210ce247486cad0f2e4e0e257235",
              "IPY_MODEL_224e022a3f6749359060905bb710cb8a",
              "IPY_MODEL_8e73c133390c498fa017b802367c5066"
            ]
          }
        },
        "4fc41a73bd8a4535bdc8f9f27e4a098b": {
          "model_module": "@jupyter-widgets/base",
          "model_name": "LayoutModel",
          "model_module_version": "1.2.0",
          "state": {
            "_view_name": "LayoutView",
            "grid_template_rows": null,
            "right": null,
            "justify_content": null,
            "_view_module": "@jupyter-widgets/base",
            "overflow": null,
            "_model_module_version": "1.2.0",
            "_view_count": null,
            "flex_flow": null,
            "width": null,
            "min_width": null,
            "border": null,
            "align_items": null,
            "bottom": null,
            "_model_module": "@jupyter-widgets/base",
            "top": null,
            "grid_column": null,
            "overflow_y": null,
            "overflow_x": null,
            "grid_auto_flow": null,
            "grid_area": null,
            "grid_template_columns": null,
            "flex": null,
            "_model_name": "LayoutModel",
            "justify_items": null,
            "grid_row": null,
            "max_height": null,
            "align_content": null,
            "visibility": null,
            "align_self": null,
            "height": null,
            "min_height": null,
            "padding": null,
            "grid_auto_rows": null,
            "grid_gap": null,
            "max_width": null,
            "order": null,
            "_view_module_version": "1.2.0",
            "grid_template_areas": null,
            "object_position": null,
            "object_fit": null,
            "grid_auto_columns": null,
            "margin": null,
            "display": null,
            "left": null
          }
        },
        "9671210ce247486cad0f2e4e0e257235": {
          "model_module": "@jupyter-widgets/controls",
          "model_name": "HTMLModel",
          "model_module_version": "1.5.0",
          "state": {
            "_view_name": "HTMLView",
            "style": "IPY_MODEL_4ccbb0cee2384d44a731faa933672b6d",
            "_dom_classes": [],
            "description": "",
            "_model_name": "HTMLModel",
            "placeholder": "​",
            "_view_module": "@jupyter-widgets/controls",
            "_model_module_version": "1.5.0",
            "value": "",
            "_view_count": null,
            "_view_module_version": "1.5.0",
            "description_tooltip": null,
            "_model_module": "@jupyter-widgets/controls",
            "layout": "IPY_MODEL_de7da04f794a4eafb5a6c0cf683fae8f"
          }
        },
        "224e022a3f6749359060905bb710cb8a": {
          "model_module": "@jupyter-widgets/controls",
          "model_name": "FloatProgressModel",
          "model_module_version": "1.5.0",
          "state": {
            "_view_name": "ProgressView",
            "style": "IPY_MODEL_e5de964fc35044d0a567915bc3666ccd",
            "_dom_classes": [],
            "description": "",
            "_model_name": "FloatProgressModel",
            "bar_style": "success",
            "max": 170498071,
            "_view_module": "@jupyter-widgets/controls",
            "_model_module_version": "1.5.0",
            "value": 170498071,
            "_view_count": null,
            "_view_module_version": "1.5.0",
            "orientation": "horizontal",
            "min": 0,
            "description_tooltip": null,
            "_model_module": "@jupyter-widgets/controls",
            "layout": "IPY_MODEL_7a22e5b1ddca4893b6bdcb0f342bad6c"
          }
        },
        "8e73c133390c498fa017b802367c5066": {
          "model_module": "@jupyter-widgets/controls",
          "model_name": "HTMLModel",
          "model_module_version": "1.5.0",
          "state": {
            "_view_name": "HTMLView",
            "style": "IPY_MODEL_e7803ced0d5a408487008477ec2ccf1c",
            "_dom_classes": [],
            "description": "",
            "_model_name": "HTMLModel",
            "placeholder": "​",
            "_view_module": "@jupyter-widgets/controls",
            "_model_module_version": "1.5.0",
            "value": " 170499072/? [00:03&lt;00:00, 58137102.18it/s]",
            "_view_count": null,
            "_view_module_version": "1.5.0",
            "description_tooltip": null,
            "_model_module": "@jupyter-widgets/controls",
            "layout": "IPY_MODEL_acc52ed967c7492cad8a1fe0e6e97c94"
          }
        },
        "4ccbb0cee2384d44a731faa933672b6d": {
          "model_module": "@jupyter-widgets/controls",
          "model_name": "DescriptionStyleModel",
          "model_module_version": "1.5.0",
          "state": {
            "_view_name": "StyleView",
            "_model_name": "DescriptionStyleModel",
            "description_width": "",
            "_view_module": "@jupyter-widgets/base",
            "_model_module_version": "1.5.0",
            "_view_count": null,
            "_view_module_version": "1.2.0",
            "_model_module": "@jupyter-widgets/controls"
          }
        },
        "de7da04f794a4eafb5a6c0cf683fae8f": {
          "model_module": "@jupyter-widgets/base",
          "model_name": "LayoutModel",
          "model_module_version": "1.2.0",
          "state": {
            "_view_name": "LayoutView",
            "grid_template_rows": null,
            "right": null,
            "justify_content": null,
            "_view_module": "@jupyter-widgets/base",
            "overflow": null,
            "_model_module_version": "1.2.0",
            "_view_count": null,
            "flex_flow": null,
            "width": null,
            "min_width": null,
            "border": null,
            "align_items": null,
            "bottom": null,
            "_model_module": "@jupyter-widgets/base",
            "top": null,
            "grid_column": null,
            "overflow_y": null,
            "overflow_x": null,
            "grid_auto_flow": null,
            "grid_area": null,
            "grid_template_columns": null,
            "flex": null,
            "_model_name": "LayoutModel",
            "justify_items": null,
            "grid_row": null,
            "max_height": null,
            "align_content": null,
            "visibility": null,
            "align_self": null,
            "height": null,
            "min_height": null,
            "padding": null,
            "grid_auto_rows": null,
            "grid_gap": null,
            "max_width": null,
            "order": null,
            "_view_module_version": "1.2.0",
            "grid_template_areas": null,
            "object_position": null,
            "object_fit": null,
            "grid_auto_columns": null,
            "margin": null,
            "display": null,
            "left": null
          }
        },
        "e5de964fc35044d0a567915bc3666ccd": {
          "model_module": "@jupyter-widgets/controls",
          "model_name": "ProgressStyleModel",
          "model_module_version": "1.5.0",
          "state": {
            "_view_name": "StyleView",
            "_model_name": "ProgressStyleModel",
            "description_width": "",
            "_view_module": "@jupyter-widgets/base",
            "_model_module_version": "1.5.0",
            "_view_count": null,
            "_view_module_version": "1.2.0",
            "bar_color": null,
            "_model_module": "@jupyter-widgets/controls"
          }
        },
        "7a22e5b1ddca4893b6bdcb0f342bad6c": {
          "model_module": "@jupyter-widgets/base",
          "model_name": "LayoutModel",
          "model_module_version": "1.2.0",
          "state": {
            "_view_name": "LayoutView",
            "grid_template_rows": null,
            "right": null,
            "justify_content": null,
            "_view_module": "@jupyter-widgets/base",
            "overflow": null,
            "_model_module_version": "1.2.0",
            "_view_count": null,
            "flex_flow": null,
            "width": null,
            "min_width": null,
            "border": null,
            "align_items": null,
            "bottom": null,
            "_model_module": "@jupyter-widgets/base",
            "top": null,
            "grid_column": null,
            "overflow_y": null,
            "overflow_x": null,
            "grid_auto_flow": null,
            "grid_area": null,
            "grid_template_columns": null,
            "flex": null,
            "_model_name": "LayoutModel",
            "justify_items": null,
            "grid_row": null,
            "max_height": null,
            "align_content": null,
            "visibility": null,
            "align_self": null,
            "height": null,
            "min_height": null,
            "padding": null,
            "grid_auto_rows": null,
            "grid_gap": null,
            "max_width": null,
            "order": null,
            "_view_module_version": "1.2.0",
            "grid_template_areas": null,
            "object_position": null,
            "object_fit": null,
            "grid_auto_columns": null,
            "margin": null,
            "display": null,
            "left": null
          }
        },
        "e7803ced0d5a408487008477ec2ccf1c": {
          "model_module": "@jupyter-widgets/controls",
          "model_name": "DescriptionStyleModel",
          "model_module_version": "1.5.0",
          "state": {
            "_view_name": "StyleView",
            "_model_name": "DescriptionStyleModel",
            "description_width": "",
            "_view_module": "@jupyter-widgets/base",
            "_model_module_version": "1.5.0",
            "_view_count": null,
            "_view_module_version": "1.2.0",
            "_model_module": "@jupyter-widgets/controls"
          }
        },
        "acc52ed967c7492cad8a1fe0e6e97c94": {
          "model_module": "@jupyter-widgets/base",
          "model_name": "LayoutModel",
          "model_module_version": "1.2.0",
          "state": {
            "_view_name": "LayoutView",
            "grid_template_rows": null,
            "right": null,
            "justify_content": null,
            "_view_module": "@jupyter-widgets/base",
            "overflow": null,
            "_model_module_version": "1.2.0",
            "_view_count": null,
            "flex_flow": null,
            "width": null,
            "min_width": null,
            "border": null,
            "align_items": null,
            "bottom": null,
            "_model_module": "@jupyter-widgets/base",
            "top": null,
            "grid_column": null,
            "overflow_y": null,
            "overflow_x": null,
            "grid_auto_flow": null,
            "grid_area": null,
            "grid_template_columns": null,
            "flex": null,
            "_model_name": "LayoutModel",
            "justify_items": null,
            "grid_row": null,
            "max_height": null,
            "align_content": null,
            "visibility": null,
            "align_self": null,
            "height": null,
            "min_height": null,
            "padding": null,
            "grid_auto_rows": null,
            "grid_gap": null,
            "max_width": null,
            "order": null,
            "_view_module_version": "1.2.0",
            "grid_template_areas": null,
            "object_position": null,
            "object_fit": null,
            "grid_auto_columns": null,
            "margin": null,
            "display": null,
            "left": null
          }
        },
        "b259336c20af4f359b1313ba009ed36d": {
          "model_module": "@jupyter-widgets/controls",
          "model_name": "HBoxModel",
          "model_module_version": "1.5.0",
          "state": {
            "_view_name": "HBoxView",
            "_dom_classes": [],
            "_model_name": "HBoxModel",
            "_view_module": "@jupyter-widgets/controls",
            "_model_module_version": "1.5.0",
            "_view_count": null,
            "_view_module_version": "1.5.0",
            "box_style": "",
            "layout": "IPY_MODEL_3b9c68f172bd4fe29832ccccb3b01036",
            "_model_module": "@jupyter-widgets/controls",
            "children": [
              "IPY_MODEL_348070a0eb7044e9af219236ecc1b9ea",
              "IPY_MODEL_41ba5c58cc5a42568a17d1aebc1121c4",
              "IPY_MODEL_67e1125829b54e31b9844c6a4a55d4de"
            ]
          }
        },
        "3b9c68f172bd4fe29832ccccb3b01036": {
          "model_module": "@jupyter-widgets/base",
          "model_name": "LayoutModel",
          "model_module_version": "1.2.0",
          "state": {
            "_view_name": "LayoutView",
            "grid_template_rows": null,
            "right": null,
            "justify_content": null,
            "_view_module": "@jupyter-widgets/base",
            "overflow": null,
            "_model_module_version": "1.2.0",
            "_view_count": null,
            "flex_flow": null,
            "width": null,
            "min_width": null,
            "border": null,
            "align_items": null,
            "bottom": null,
            "_model_module": "@jupyter-widgets/base",
            "top": null,
            "grid_column": null,
            "overflow_y": null,
            "overflow_x": null,
            "grid_auto_flow": null,
            "grid_area": null,
            "grid_template_columns": null,
            "flex": null,
            "_model_name": "LayoutModel",
            "justify_items": null,
            "grid_row": null,
            "max_height": null,
            "align_content": null,
            "visibility": null,
            "align_self": null,
            "height": null,
            "min_height": null,
            "padding": null,
            "grid_auto_rows": null,
            "grid_gap": null,
            "max_width": null,
            "order": null,
            "_view_module_version": "1.2.0",
            "grid_template_areas": null,
            "object_position": null,
            "object_fit": null,
            "grid_auto_columns": null,
            "margin": null,
            "display": null,
            "left": null
          }
        },
        "348070a0eb7044e9af219236ecc1b9ea": {
          "model_module": "@jupyter-widgets/controls",
          "model_name": "HTMLModel",
          "model_module_version": "1.5.0",
          "state": {
            "_view_name": "HTMLView",
            "style": "IPY_MODEL_69d237f76d604406ab87e21e9b1ab14d",
            "_dom_classes": [],
            "description": "",
            "_model_name": "HTMLModel",
            "placeholder": "​",
            "_view_module": "@jupyter-widgets/controls",
            "_model_module_version": "1.5.0",
            "value": "100%",
            "_view_count": null,
            "_view_module_version": "1.5.0",
            "description_tooltip": null,
            "_model_module": "@jupyter-widgets/controls",
            "layout": "IPY_MODEL_3e38a37e096f40c182c2c09bdd8c5da7"
          }
        },
        "41ba5c58cc5a42568a17d1aebc1121c4": {
          "model_module": "@jupyter-widgets/controls",
          "model_name": "FloatProgressModel",
          "model_module_version": "1.5.0",
          "state": {
            "_view_name": "ProgressView",
            "style": "IPY_MODEL_424012ff64ca452882d87d960f1d617d",
            "_dom_classes": [],
            "description": "",
            "_model_name": "FloatProgressModel",
            "bar_style": "success",
            "max": 553433881,
            "_view_module": "@jupyter-widgets/controls",
            "_model_module_version": "1.5.0",
            "value": 553433881,
            "_view_count": null,
            "_view_module_version": "1.5.0",
            "orientation": "horizontal",
            "min": 0,
            "description_tooltip": null,
            "_model_module": "@jupyter-widgets/controls",
            "layout": "IPY_MODEL_aea591e60fcc417b93bd651d5eeabf33"
          }
        },
        "67e1125829b54e31b9844c6a4a55d4de": {
          "model_module": "@jupyter-widgets/controls",
          "model_name": "HTMLModel",
          "model_module_version": "1.5.0",
          "state": {
            "_view_name": "HTMLView",
            "style": "IPY_MODEL_cd6f8c009dec498880114587c67bedea",
            "_dom_classes": [],
            "description": "",
            "_model_name": "HTMLModel",
            "placeholder": "​",
            "_view_module": "@jupyter-widgets/controls",
            "_model_module_version": "1.5.0",
            "value": " 528M/528M [00:07&lt;00:00, 36.6MB/s]",
            "_view_count": null,
            "_view_module_version": "1.5.0",
            "description_tooltip": null,
            "_model_module": "@jupyter-widgets/controls",
            "layout": "IPY_MODEL_ad023b4bb6634367b9d86e5d39e049ff"
          }
        },
        "69d237f76d604406ab87e21e9b1ab14d": {
          "model_module": "@jupyter-widgets/controls",
          "model_name": "DescriptionStyleModel",
          "model_module_version": "1.5.0",
          "state": {
            "_view_name": "StyleView",
            "_model_name": "DescriptionStyleModel",
            "description_width": "",
            "_view_module": "@jupyter-widgets/base",
            "_model_module_version": "1.5.0",
            "_view_count": null,
            "_view_module_version": "1.2.0",
            "_model_module": "@jupyter-widgets/controls"
          }
        },
        "3e38a37e096f40c182c2c09bdd8c5da7": {
          "model_module": "@jupyter-widgets/base",
          "model_name": "LayoutModel",
          "model_module_version": "1.2.0",
          "state": {
            "_view_name": "LayoutView",
            "grid_template_rows": null,
            "right": null,
            "justify_content": null,
            "_view_module": "@jupyter-widgets/base",
            "overflow": null,
            "_model_module_version": "1.2.0",
            "_view_count": null,
            "flex_flow": null,
            "width": null,
            "min_width": null,
            "border": null,
            "align_items": null,
            "bottom": null,
            "_model_module": "@jupyter-widgets/base",
            "top": null,
            "grid_column": null,
            "overflow_y": null,
            "overflow_x": null,
            "grid_auto_flow": null,
            "grid_area": null,
            "grid_template_columns": null,
            "flex": null,
            "_model_name": "LayoutModel",
            "justify_items": null,
            "grid_row": null,
            "max_height": null,
            "align_content": null,
            "visibility": null,
            "align_self": null,
            "height": null,
            "min_height": null,
            "padding": null,
            "grid_auto_rows": null,
            "grid_gap": null,
            "max_width": null,
            "order": null,
            "_view_module_version": "1.2.0",
            "grid_template_areas": null,
            "object_position": null,
            "object_fit": null,
            "grid_auto_columns": null,
            "margin": null,
            "display": null,
            "left": null
          }
        },
        "424012ff64ca452882d87d960f1d617d": {
          "model_module": "@jupyter-widgets/controls",
          "model_name": "ProgressStyleModel",
          "model_module_version": "1.5.0",
          "state": {
            "_view_name": "StyleView",
            "_model_name": "ProgressStyleModel",
            "description_width": "",
            "_view_module": "@jupyter-widgets/base",
            "_model_module_version": "1.5.0",
            "_view_count": null,
            "_view_module_version": "1.2.0",
            "bar_color": null,
            "_model_module": "@jupyter-widgets/controls"
          }
        },
        "aea591e60fcc417b93bd651d5eeabf33": {
          "model_module": "@jupyter-widgets/base",
          "model_name": "LayoutModel",
          "model_module_version": "1.2.0",
          "state": {
            "_view_name": "LayoutView",
            "grid_template_rows": null,
            "right": null,
            "justify_content": null,
            "_view_module": "@jupyter-widgets/base",
            "overflow": null,
            "_model_module_version": "1.2.0",
            "_view_count": null,
            "flex_flow": null,
            "width": null,
            "min_width": null,
            "border": null,
            "align_items": null,
            "bottom": null,
            "_model_module": "@jupyter-widgets/base",
            "top": null,
            "grid_column": null,
            "overflow_y": null,
            "overflow_x": null,
            "grid_auto_flow": null,
            "grid_area": null,
            "grid_template_columns": null,
            "flex": null,
            "_model_name": "LayoutModel",
            "justify_items": null,
            "grid_row": null,
            "max_height": null,
            "align_content": null,
            "visibility": null,
            "align_self": null,
            "height": null,
            "min_height": null,
            "padding": null,
            "grid_auto_rows": null,
            "grid_gap": null,
            "max_width": null,
            "order": null,
            "_view_module_version": "1.2.0",
            "grid_template_areas": null,
            "object_position": null,
            "object_fit": null,
            "grid_auto_columns": null,
            "margin": null,
            "display": null,
            "left": null
          }
        },
        "cd6f8c009dec498880114587c67bedea": {
          "model_module": "@jupyter-widgets/controls",
          "model_name": "DescriptionStyleModel",
          "model_module_version": "1.5.0",
          "state": {
            "_view_name": "StyleView",
            "_model_name": "DescriptionStyleModel",
            "description_width": "",
            "_view_module": "@jupyter-widgets/base",
            "_model_module_version": "1.5.0",
            "_view_count": null,
            "_view_module_version": "1.2.0",
            "_model_module": "@jupyter-widgets/controls"
          }
        },
        "ad023b4bb6634367b9d86e5d39e049ff": {
          "model_module": "@jupyter-widgets/base",
          "model_name": "LayoutModel",
          "model_module_version": "1.2.0",
          "state": {
            "_view_name": "LayoutView",
            "grid_template_rows": null,
            "right": null,
            "justify_content": null,
            "_view_module": "@jupyter-widgets/base",
            "overflow": null,
            "_model_module_version": "1.2.0",
            "_view_count": null,
            "flex_flow": null,
            "width": null,
            "min_width": null,
            "border": null,
            "align_items": null,
            "bottom": null,
            "_model_module": "@jupyter-widgets/base",
            "top": null,
            "grid_column": null,
            "overflow_y": null,
            "overflow_x": null,
            "grid_auto_flow": null,
            "grid_area": null,
            "grid_template_columns": null,
            "flex": null,
            "_model_name": "LayoutModel",
            "justify_items": null,
            "grid_row": null,
            "max_height": null,
            "align_content": null,
            "visibility": null,
            "align_self": null,
            "height": null,
            "min_height": null,
            "padding": null,
            "grid_auto_rows": null,
            "grid_gap": null,
            "max_width": null,
            "order": null,
            "_view_module_version": "1.2.0",
            "grid_template_areas": null,
            "object_position": null,
            "object_fit": null,
            "grid_auto_columns": null,
            "margin": null,
            "display": null,
            "left": null
          }
        }
      }
    }
  },
  "nbformat": 4,
  "nbformat_minor": 0
}