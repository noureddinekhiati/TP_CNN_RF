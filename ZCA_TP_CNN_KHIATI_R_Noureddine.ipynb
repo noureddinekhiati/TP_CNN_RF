{
  "nbformat": 4,
  "nbformat_minor": 0,
  "metadata": {
    "accelerator": "GPU",
    "colab": {
      "name": "ZCA_TP_CNN_KHIATI_R.Noureddine.ipynb",
      "provenance": [],
      "collapsed_sections": []
    },
    "kernelspec": {
      "display_name": "Python 3",
      "name": "python3"
    },
    "language_info": {
      "name": "python"
    }
  },
  "cells": [
    {
      "cell_type": "code",
      "metadata": {
        "id": "vx5cQ4fIT5Fd"
      },
      "source": [
        "import math\n",
        "import os\n",
        "\n",
        "import numpy as np\n",
        "import random\n",
        "import torch\n",
        "import torchvision\n",
        "import torchvision.transforms as transforms\n",
        "from torch import Tensor\n",
        "from torch.autograd import Function\n",
        "from torch.nn import init, Module, functional\n",
        "from torch.nn.parameter import Parameter, UninitializedParameter\n",
        "from torch.utils.data import DataLoader, Dataset, TensorDataset\n"
      ],
      "execution_count": 39,
      "outputs": []
    },
    {
      "cell_type": "code",
      "metadata": {
        "colab": {
          "base_uri": "https://localhost:8080/"
        },
        "id": "41cnV1PDms8E",
        "outputId": "72d995a2-dd6d-41fc-c945-b01658754dc7"
      },
      "source": [
        "!gdown --id 1-D6l7Z_4-I4-eMHUrHSXN8evrj09M9el"
      ],
      "execution_count": 40,
      "outputs": [
        {
          "output_type": "stream",
          "name": "stdout",
          "text": [
            "Downloading...\n",
            "From: https://drive.google.com/uc?id=1-D6l7Z_4-I4-eMHUrHSXN8evrj09M9el\n",
            "To: /content/ZCA_params.npy\n",
            "100% 151M/151M [00:00<00:00, 164MB/s]\n"
          ]
        }
      ]
    },
    {
      "cell_type": "code",
      "metadata": {
        "id": "gKDT5SXVYixV"
      },
      "source": [
        "\n",
        "\n",
        "# For Training\n",
        "batch_size = 50\n",
        "num_epochs = 10\n",
        "\n",
        "# For batchnorm\n",
        "epsilon = 1e-4\n",
        "alpha = .1\n",
        "\n",
        "# For the optimizer\n",
        "learning_rate = .003\n",
        "min_learning_rate = 2e-6\n",
        "decay = (min_learning_rate / learning_rate) ** (1. / num_epochs)\n",
        "weight_decay = 2e-4\n",
        "\n",
        "# Set GPU\n",
        "device = torch.device(\"cuda\")\n",
        "\n",
        "# To save model\n",
        "save_model = True\n",
        "PATH = 'CIFAR10_ZCA.pt'"
      ],
      "execution_count": 41,
      "outputs": []
    },
    {
      "cell_type": "code",
      "metadata": {
        "colab": {
          "base_uri": "https://localhost:8080/"
        },
        "id": "kDO2LXHlqBY6",
        "outputId": "d3a9e4d1-2133-433a-e26b-ff40a1d717d9"
      },
      "source": [
        "!mkdir /content/drive/MyDrive/weights/"
      ],
      "execution_count": 42,
      "outputs": [
        {
          "output_type": "stream",
          "name": "stdout",
          "text": [
            "mkdir: cannot create directory ‘/content/drive/MyDrive/weights/’: No such file or directory\n"
          ]
        }
      ]
    },
    {
      "cell_type": "code",
      "metadata": {
        "colab": {
          "base_uri": "https://localhost:8080/"
        },
        "id": "VyntfZJsmvUB",
        "outputId": "31dedc62-67b9-4412-b0ce-05bbb06bd245"
      },
      "source": [
        "with open(\"ZCA_params.npy\", \"rb\") as f:\n",
        "    U = np.load(f)\n",
        "    S = np.load(f)\n",
        "    V = np.load(f)\n",
        "\n",
        "zca_epsilon = 0.1\n",
        "pre_compute = U.dot(np.diag(1.0 / np.sqrt(S + zca_epsilon))).dot(U.T)\n",
        "\n",
        "pre_compute = torch.from_numpy(pre_compute).float().to(device)\n",
        "print(pre_compute.shape)\n",
        "\n",
        "def apply_ZCA(x_train):\n",
        "    global pre_compute\n",
        "    # X_norm = x_train.cpu().reshape((x_train.shape[0], -1)).numpy()\n",
        "    X_norm = x_train.reshape((x_train.shape[0], -1)).float()\n",
        "    X_ZCA = pre_compute.matmul(X_norm.T).T\n",
        "    # X_ZCA = torch.tensor(X_ZCA)\n",
        "    return X_ZCA.reshape_as(x_train)"
      ],
      "execution_count": 43,
      "outputs": [
        {
          "output_type": "stream",
          "name": "stdout",
          "text": [
            "torch.Size([3072, 3072])\n"
          ]
        }
      ]
    },
    {
      "cell_type": "code",
      "metadata": {
        "id": "XvPeaCttYlGp"
      },
      "source": [
        "class nn(Module):\n",
        "    def __init__(self):\n",
        "        super(nn, self).__init__()\n",
        "\n",
        "        self.c3_128_1 = torch.nn.Conv2d(3, 128, 3, padding=1)\n",
        "        self.bn_1 = torch.nn.BatchNorm2d(128, eps=epsilon, momentum=alpha)\n",
        "\n",
        "        self.c3_128_2 = torch.nn.Conv2d(128, 128, 3, padding=1)\n",
        "        self.mp2_2 = torch.nn.MaxPool2d(2)\n",
        "        self.bn_2 = torch.nn.BatchNorm2d(128, eps=epsilon, momentum=alpha)\n",
        "\n",
        "        self.c3_256_3 = torch.nn.Conv2d(128, 256, 3, padding=1)\n",
        "        self.bn_3 = torch.nn.BatchNorm2d(256, eps=epsilon, momentum=alpha)\n",
        "\n",
        "        self.c3_256_4 = torch.nn.Conv2d(256, 256, 3, padding=1)\n",
        "        self.mp2_4 = torch.nn.MaxPool2d(2)\n",
        "        self.bn_4 = torch.nn.BatchNorm2d(256, eps=epsilon, momentum=alpha)\n",
        "\n",
        "        self.c3_512_5 = torch.nn.Conv2d(256, 512, 3, padding=1)\n",
        "        self.bn_5 = torch.nn.BatchNorm2d(512, eps=epsilon, momentum=alpha)\n",
        "\n",
        "        self.c3_512_6 = torch.nn.Conv2d(512, 512, 3, padding=1)\n",
        "        self.mp2_6 = torch.nn.MaxPool2d(2)\n",
        "        self.bn_6 = torch.nn.BatchNorm2d(512, eps=epsilon, momentum=alpha)\n",
        "\n",
        "        self.d_1024_7 = torch.nn.Linear(2048 * 4, 1024)\n",
        "        self.bn_7 = torch.nn.BatchNorm1d(1024, eps=epsilon, momentum=alpha)\n",
        "        \n",
        "        self.d_1024_8 = torch.nn.Linear(1024, 1024)\n",
        "        self.bn_8 = torch.nn.BatchNorm1d(1024, eps=epsilon, momentum=alpha)\n",
        "\n",
        "        self.d_10_9 = torch.nn.Linear(1024, 10)\n",
        "        self.bn_9 = torch.nn.BatchNorm1d(10, eps=epsilon, momentum=alpha)\n",
        "\n",
        "    def forward(self, input):\n",
        "        x = self.c3_128_1(input)\n",
        "        x = torch.nn.ReLU()(self.bn_1(x))\n",
        "#         print(x.shape)\n",
        "        x = self.c3_128_2(x)\n",
        "        x = self.mp2_2(x)\n",
        "        x = torch.nn.ReLU()(self.bn_2(x))\n",
        "#         print(x.shape)\n",
        "\n",
        "        x = self.c3_256_3(x)\n",
        "        x = torch.nn.ReLU()(self.bn_3(x))\n",
        "#         print(x.shape)\n",
        "        x = self.c3_256_4(x)\n",
        "        x = self.mp2_4(x)\n",
        "        x = torch.nn.ReLU()(self.bn_4(x))\n",
        "#         print(x.shape)\n",
        "\n",
        "        x = self.c3_512_5(x)\n",
        "        x = torch.nn.ReLU()(self.bn_5(x))\n",
        "#         print(x.shape)\n",
        "        x = self.c3_512_6(x)\n",
        "        x = self.mp2_6(x)\n",
        "        x = torch.nn.ReLU()(self.bn_6(x))\n",
        "#         print(x.shape)\n",
        "\n",
        "        x = torch.nn.Flatten()(x)\n",
        "        \n",
        "        x = self.d_1024_7(x)\n",
        "        x = torch.nn.ReLU()(self.bn_7(x))\n",
        "#         print(x.shape)\n",
        "\n",
        "        x = self.d_1024_8(x)\n",
        "        x = torch.nn.ReLU()(self.bn_8(x))\n",
        "#         print(x.shape)\n",
        "\n",
        "        x = self.d_10_9(x)\n",
        "        x = self.bn_9(x)\n",
        "        # x = torch.nn.Softmax(-1)(x)\n",
        "        return x"
      ],
      "execution_count": 44,
      "outputs": []
    },
    {
      "cell_type": "code",
      "metadata": {
        "id": "-zQZrW8lYnm9"
      },
      "source": [
        "model = nn().to(device)"
      ],
      "execution_count": 45,
      "outputs": []
    },
    {
      "cell_type": "code",
      "metadata": {
        "colab": {
          "base_uri": "https://localhost:8080/"
        },
        "id": "bd7xjiPwYqme",
        "outputId": "a98a3877-54ea-42ac-aa0d-3ffb7dfa9efc"
      },
      "source": [
        "model"
      ],
      "execution_count": 46,
      "outputs": [
        {
          "output_type": "execute_result",
          "data": {
            "text/plain": [
              "nn(\n",
              "  (c3_128_1): Conv2d(3, 128, kernel_size=(3, 3), stride=(1, 1), padding=(1, 1))\n",
              "  (bn_1): BatchNorm2d(128, eps=0.0001, momentum=0.1, affine=True, track_running_stats=True)\n",
              "  (c3_128_2): Conv2d(128, 128, kernel_size=(3, 3), stride=(1, 1), padding=(1, 1))\n",
              "  (mp2_2): MaxPool2d(kernel_size=2, stride=2, padding=0, dilation=1, ceil_mode=False)\n",
              "  (bn_2): BatchNorm2d(128, eps=0.0001, momentum=0.1, affine=True, track_running_stats=True)\n",
              "  (c3_256_3): Conv2d(128, 256, kernel_size=(3, 3), stride=(1, 1), padding=(1, 1))\n",
              "  (bn_3): BatchNorm2d(256, eps=0.0001, momentum=0.1, affine=True, track_running_stats=True)\n",
              "  (c3_256_4): Conv2d(256, 256, kernel_size=(3, 3), stride=(1, 1), padding=(1, 1))\n",
              "  (mp2_4): MaxPool2d(kernel_size=2, stride=2, padding=0, dilation=1, ceil_mode=False)\n",
              "  (bn_4): BatchNorm2d(256, eps=0.0001, momentum=0.1, affine=True, track_running_stats=True)\n",
              "  (c3_512_5): Conv2d(256, 512, kernel_size=(3, 3), stride=(1, 1), padding=(1, 1))\n",
              "  (bn_5): BatchNorm2d(512, eps=0.0001, momentum=0.1, affine=True, track_running_stats=True)\n",
              "  (c3_512_6): Conv2d(512, 512, kernel_size=(3, 3), stride=(1, 1), padding=(1, 1))\n",
              "  (mp2_6): MaxPool2d(kernel_size=2, stride=2, padding=0, dilation=1, ceil_mode=False)\n",
              "  (bn_6): BatchNorm2d(512, eps=0.0001, momentum=0.1, affine=True, track_running_stats=True)\n",
              "  (d_1024_7): Linear(in_features=8192, out_features=1024, bias=True)\n",
              "  (bn_7): BatchNorm1d(1024, eps=0.0001, momentum=0.1, affine=True, track_running_stats=True)\n",
              "  (d_1024_8): Linear(in_features=1024, out_features=1024, bias=True)\n",
              "  (bn_8): BatchNorm1d(1024, eps=0.0001, momentum=0.1, affine=True, track_running_stats=True)\n",
              "  (d_10_9): Linear(in_features=1024, out_features=10, bias=True)\n",
              "  (bn_9): BatchNorm1d(10, eps=0.0001, momentum=0.1, affine=True, track_running_stats=True)\n",
              ")"
            ]
          },
          "metadata": {},
          "execution_count": 46
        }
      ]
    },
    {
      "cell_type": "code",
      "metadata": {
        "colab": {
          "base_uri": "https://localhost:8080/"
        },
        "id": "m2RITE0OYsgJ",
        "outputId": "1e532ca0-2959-4914-8219-37dd3145a519"
      },
      "source": [
        "t = transforms.Compose(\n",
        "    [\n",
        "       transforms.ToTensor(),\n",
        "    \n",
        "    ]\n",
        ")\n",
        "\n",
        "dl_train = DataLoader(\n",
        "    torchvision.datasets.CIFAR10(\n",
        "        \"/data/cifar\",\n",
        "        download=True,\n",
        "        train=True,\n",
        "        transform=t,\n",
        "        target_transform=torchvision.transforms.Compose([\n",
        "            lambda x: torch.LongTensor([x]), # or just torch.tensor\n",
        "            lambda x: torch.nn.functional.one_hot(x, 10),\n",
        "            lambda x: 2*x - 1 \n",
        "        ])\n",
        "    ),\n",
        "    batch_size=batch_size,\n",
        "    drop_last=True,\n",
        "    shuffle=True\n",
        ")\n",
        "dl_test = DataLoader(\n",
        "    torchvision.datasets.CIFAR10(\n",
        "        \"/data/cifar\",\n",
        "        download=True,\n",
        "        train=False,\n",
        "        transform=t,\n",
        "        target_transform=torchvision.transforms.Compose([\n",
        "            lambda x:torch.LongTensor([x]), # or just torch.tensor\n",
        "            lambda x:torch.nn.functional.one_hot(x, 10),\n",
        "            lambda x: 2*x - 1 \n",
        "        ])\n",
        "    ),\n",
        "    batch_size=batch_size,\n",
        "    drop_last=True,\n",
        "    shuffle=True\n",
        ")"
      ],
      "execution_count": 47,
      "outputs": [
        {
          "output_type": "stream",
          "name": "stdout",
          "text": [
            "Files already downloaded and verified\n",
            "Files already downloaded and verified\n"
          ]
        }
      ]
    },
    {
      "cell_type": "code",
      "metadata": {
        "id": "vpdF4GOMrBwA"
      },
      "source": [
        "def sqr_hinge_loss_2(output,target): \n",
        "    zero = torch.Tensor([0]).to(device)\n",
        "    result = torch.max(zero, 1 - output*target)**2\n",
        "    #print('result: ', result)\n",
        "    mean_loss = torch.mean(torch.mean(result))\n",
        "    #print('mean_loss: ',mean_loss)\n",
        "    return mean_loss"
      ],
      "execution_count": 48,
      "outputs": []
    },
    {
      "cell_type": "code",
      "metadata": {
        "id": "hPsWu3zDYuxn"
      },
      "source": [
        "\n",
        "loss = sqr_hinge_loss_2\n",
        "optim_list = []\n",
        "for child in model.children():\n",
        "    if child is model.d_10_9:\n",
        "        optim_list.append(\n",
        "            {\n",
        "                'params': child.parameters(), \n",
        "                'lr': learning_rate,\n",
        "                'weight_decay': weight_decay,\n",
        "            }\n",
        "        ) \n",
        "    else:\n",
        "        optim_list.append(\n",
        "            {\n",
        "                'params': child.parameters(), \n",
        "                'lr': learning_rate,\n",
        "                # 'weight_decay': weight_decay, # Added for testing\n",
        "            }\n",
        "        )\n",
        "\n",
        "optimizer = torch.optim.Adam(model.parameters(), lr=learning_rate)\n",
        "lr_scheduler = torch.optim.lr_scheduler.ExponentialLR(optimizer, decay)"
      ],
      "execution_count": 49,
      "outputs": []
    },
    {
      "cell_type": "code",
      "metadata": {
        "id": "D9RW0KcRY0Ij"
      },
      "source": [
        "def train(model, num_epochs, dl_train, dl_valid, optimizer, lossfunction, lr_scheduler=None):\n",
        "    global PATH, save_model\n",
        "\n",
        "    losses = []\n",
        "    val_losses = []\n",
        "    accuracy = []\n",
        "    best_accuracy = 0\n",
        "    total_steps = len(dl_train) * num_epochs\n",
        "\n",
        "    try:\n",
        "        for epoch in range(num_epochs):\n",
        "            losses.append(0)\n",
        "            val_losses.append(0)\n",
        "            accuracy.append(0)\n",
        "            print(f\"Epoch {epoch + 1}\")\n",
        "            # Start training\n",
        "            model.train()\n",
        "            for i, (input, target) in enumerate(dl_train):\n",
        "                if i % 10 == 0:\n",
        "                    print(i, end=\" \")\n",
        "                if (i+1) % 150 == 0:\n",
        "                    print()\n",
        "                optimizer.zero_grad()\n",
        "\n",
        "                input = input.to(device)\n",
        "                input = apply_ZCA(input)\n",
        "                target = torch.reshape(target, (-1, 10)).to(device)\n",
        "                output = model(input)\n",
        "                \n",
        "                loss = lossfunction(output, target.float())\n",
        "                \n",
        "                losses[epoch] += loss.item()\n",
        "                loss.backward()\n",
        "                \n",
        "                optimizer.step()\n",
        "            #break\n",
        "            model.eval()\n",
        "            tot_acc = 0\n",
        "            with torch.no_grad():\n",
        "                for j, (input, target) in enumerate(dl_valid):\n",
        "                    input = input.to(device)\n",
        "                    input = apply_ZCA(input)\n",
        "                    target = target.reshape((-1, 10)).to(device)\n",
        "                    output = model(input)\n",
        "                    \n",
        "                    loss = lossfunction(output, target.float())\n",
        "                    #loss = sqr_hinge_loss_2(output, target.float())\n",
        "                    val_losses[epoch] += loss.item()\n",
        "                    tot_acc = (tot_acc * j + int(sum(torch.argmax(target, -1) == torch.argmax(output, -1))) / target.shape[0]) / (j + 1)\n",
        "            \n",
        "            accuracy[epoch] = tot_acc\n",
        "\n",
        "            print(\"\")\n",
        "            print(\"Epoch training loss\" , losses[epoch] / len(dl_train))\n",
        "            print(\"Epoch valid loss\" , val_losses[epoch] / len(dl_valid))\n",
        "            print(\"Validation Accuracy:\", tot_acc)\n",
        "            if lr_scheduler is not None:\n",
        "                lr_scheduler.step()\n",
        "\n",
        "            if save_model:\n",
        "                if accuracy[epoch] > best_accuracy:\n",
        "                    torch.save(\n",
        "                        {\n",
        "                            'epoch': epoch,\n",
        "                            'model_state_dict': model.state_dict(),\n",
        "                            'optimizer_state_dict': optimizer.state_dict(),\n",
        "                            'losses': losses,\n",
        "                            'lr_scheduler': lr_scheduler.state_dict() if lr_scheduler is not None else None,\n",
        "                            'accuracy': accuracy,\n",
        "                            'val_losses': val_losses,\n",
        "                        },\n",
        "                        PATH,\n",
        "                    )\n",
        "                    best_accuracy = accuracy[epoch]\n",
        "                    print(\"Saved weights\")\n",
        "                print(f\"Best accuracy: {best_accuracy}\\n\")\n",
        "\n",
        "    except KeyboardInterrupt:\n",
        "        pass\n",
        "    return epoch, losses, val_losses, accuracy"
      ],
      "execution_count": 50,
      "outputs": []
    },
    {
      "cell_type": "code",
      "metadata": {
        "colab": {
          "base_uri": "https://localhost:8080/"
        },
        "id": "J-4Y2U_TY2eY",
        "outputId": "772f41e5-0b84-48e7-b3bd-a0683fc8ddf4"
      },
      "source": [
        "epoch, losses, val_losses, accuracy = train(model, num_epochs, dl_train, dl_test, optimizer, loss)"
      ],
      "execution_count": 51,
      "outputs": [
        {
          "output_type": "stream",
          "name": "stdout",
          "text": [
            "Epoch 1\n",
            "0 10 20 30 40 50 60 70 80 90 100 110 120 130 140 \n",
            "150 160 170 180 190 200 210 220 230 240 250 260 270 280 290 \n",
            "300 310 320 330 340 350 360 370 380 390 400 410 420 430 440 \n",
            "450 460 470 480 490 500 510 520 530 540 550 560 570 580 590 \n",
            "600 610 620 630 640 650 660 670 680 690 700 710 720 730 740 \n",
            "750 760 770 780 790 800 810 820 830 840 850 860 870 880 890 \n",
            "900 910 920 930 940 950 960 970 980 990 \n",
            "Epoch training loss 0.3700834688693285\n",
            "Epoch valid loss 0.17492547001689673\n",
            "Validation Accuracy: 0.6788999999999997\n",
            "Saved weights\n",
            "Best accuracy: 0.6788999999999997\n",
            "\n",
            "Epoch 2\n",
            "0 10 20 30 40 50 60 70 80 90 100 110 120 130 140 \n",
            "150 160 170 180 190 200 210 220 230 240 250 260 270 280 290 \n",
            "300 310 320 330 340 350 360 370 380 390 400 410 420 430 440 \n",
            "450 460 470 480 490 500 510 520 530 540 550 560 570 580 590 \n",
            "600 610 620 630 640 650 660 670 680 690 700 710 720 730 740 \n",
            "750 760 770 780 790 800 810 820 830 840 850 860 870 880 890 \n",
            "900 910 920 930 940 950 960 970 980 990 \n",
            "Epoch training loss 0.14496074026077985\n",
            "Epoch valid loss 0.1203612762130797\n",
            "Validation Accuracy: 0.7951999999999999\n",
            "Saved weights\n",
            "Best accuracy: 0.7951999999999999\n",
            "\n",
            "Epoch 3\n",
            "0 10 20 30 40 50 60 70 80 90 100 110 120 130 140 \n",
            "150 160 170 180 190 200 210 220 230 240 250 260 270 280 290 \n",
            "300 310 320 330 340 350 360 370 380 390 400 410 420 430 440 \n",
            "450 460 470 480 490 500 510 520 530 540 550 560 570 580 590 \n",
            "600 610 620 630 640 650 660 670 680 690 700 710 720 730 740 \n",
            "750 760 770 780 790 800 810 820 830 840 850 860 870 880 890 \n",
            "900 910 920 930 940 950 960 970 980 990 \n",
            "Epoch training loss 0.11323066223785282\n",
            "Epoch valid loss 0.10220285383984447\n",
            "Validation Accuracy: 0.8285000000000005\n",
            "Saved weights\n",
            "Best accuracy: 0.8285000000000005\n",
            "\n",
            "Epoch 4\n",
            "0 10 20 30 40 50 60 70 80 90 100 110 120 130 140 \n",
            "150 160 170 180 190 200 210 220 230 240 250 260 270 280 290 \n",
            "300 310 320 330 340 350 360 370 380 390 400 410 420 430 440 \n",
            "450 460 470 480 490 500 510 520 530 540 550 560 570 580 590 \n",
            "600 610 620 630 640 650 660 670 680 690 700 710 720 730 740 \n",
            "750 760 770 780 790 800 810 820 830 840 850 860 870 880 890 \n",
            "900 910 920 930 940 950 960 970 980 990 \n",
            "Epoch training loss 0.09289625761844218\n",
            "Epoch valid loss 0.1068308388069272\n",
            "Validation Accuracy: 0.8231999999999998\n",
            "Best accuracy: 0.8285000000000005\n",
            "\n",
            "Epoch 5\n",
            "0 10 20 30 40 50 60 70 80 90 100 110 120 130 140 \n",
            "150 160 170 180 190 200 210 220 230 240 250 260 270 280 290 \n",
            "300 310 320 330 340 350 360 370 380 390 400 410 420 430 440 \n",
            "450 460 470 480 490 500 510 520 530 540 550 560 570 580 590 \n",
            "600 610 620 630 640 650 660 670 680 690 700 710 720 730 740 \n",
            "750 760 770 780 790 800 810 820 830 840 850 860 870 880 890 \n",
            "900 910 920 930 940 950 960 970 980 990 \n",
            "Epoch training loss 0.07538166597671807\n",
            "Epoch valid loss 0.09306814581155777\n",
            "Validation Accuracy: 0.8455000000000003\n",
            "Saved weights\n",
            "Best accuracy: 0.8455000000000003\n",
            "\n",
            "Epoch 6\n",
            "0 10 20 30 40 50 60 70 80 90 100 110 120 130 140 \n",
            "150 160 170 180 190 200 210 220 230 240 250 260 270 280 290 \n",
            "300 310 320 330 340 350 360 370 380 390 400 410 420 430 440 \n",
            "450 460 470 480 490 500 510 520 530 540 550 560 570 580 590 \n",
            "600 610 620 630 640 650 660 670 680 690 700 710 720 730 740 \n",
            "750 760 770 780 790 800 810 820 830 840 850 860 870 880 890 \n",
            "900 910 920 930 940 950 960 970 980 990 \n",
            "Epoch training loss 0.060683649463579056\n",
            "Epoch valid loss 0.09848420392721892\n",
            "Validation Accuracy: 0.8412000000000005\n",
            "Best accuracy: 0.8455000000000003\n",
            "\n",
            "Epoch 7\n",
            "0 10 20 30 40 50 60 70 80 90 100 110 120 130 140 \n",
            "150 160 170 180 190 200 210 220 230 240 250 260 270 280 290 \n",
            "300 310 320 330 340 350 360 370 380 390 400 410 420 430 440 \n",
            "450 460 470 480 490 500 510 520 530 540 550 560 570 580 590 \n",
            "600 610 620 630 640 650 660 670 680 690 700 710 720 730 740 \n",
            "750 760 770 780 790 800 810 820 830 840 850 860 870 880 890 \n",
            "900 910 920 930 940 950 960 970 980 990 \n",
            "Epoch training loss 0.048623004718217996\n",
            "Epoch valid loss 0.08756351811811328\n",
            "Validation Accuracy: 0.8612000000000005\n",
            "Saved weights\n",
            "Best accuracy: 0.8612000000000005\n",
            "\n",
            "Epoch 8\n",
            "0 10 20 30 40 50 60 70 80 90 100 110 120 130 140 \n",
            "150 160 170 180 190 200 210 220 230 240 250 260 270 280 290 \n",
            "300 310 320 330 340 350 360 370 380 390 400 410 420 430 440 \n",
            "450 460 470 480 490 500 510 520 530 540 550 560 570 580 590 \n",
            "600 610 620 630 640 650 660 670 680 690 700 710 720 730 740 \n",
            "750 760 770 780 790 800 810 820 830 840 850 860 870 880 890 \n",
            "900 910 920 930 940 950 960 970 980 990 \n",
            "Epoch training loss 0.0361774229016155\n",
            "Epoch valid loss 0.08957949907518924\n",
            "Validation Accuracy: 0.8614999999999999\n",
            "Saved weights\n",
            "Best accuracy: 0.8614999999999999\n",
            "\n",
            "Epoch 9\n",
            "0 10 20 30 40 50 60 70 80 90 100 110 120 130 140 \n",
            "150 160 170 180 190 200 210 220 230 240 250 260 270 280 290 \n",
            "300 310 320 330 340 350 360 370 380 390 400 410 420 430 440 \n",
            "450 460 470 480 490 500 510 520 530 540 550 560 570 580 590 \n",
            "600 610 620 630 640 650 660 670 680 690 700 710 720 730 740 \n",
            "750 760 770 780 790 800 810 820 830 840 850 860 870 880 890 \n",
            "900 910 920 930 940 950 960 970 980 990 \n",
            "Epoch training loss 0.02888995308079757\n",
            "Epoch valid loss 0.09870181318372488\n",
            "Validation Accuracy: 0.8560000000000001\n",
            "Best accuracy: 0.8614999999999999\n",
            "\n",
            "Epoch 10\n",
            "0 10 20 30 40 50 60 70 80 90 100 110 120 130 140 \n",
            "150 160 170 180 190 200 210 220 230 240 250 260 270 280 290 \n",
            "300 310 320 330 340 350 360 370 380 390 400 410 420 430 440 \n",
            "450 460 470 480 490 500 510 520 530 540 550 560 570 580 590 \n",
            "600 610 620 630 640 650 660 670 680 690 700 710 720 730 740 \n",
            "750 760 770 780 790 800 810 820 830 840 850 860 870 880 890 \n",
            "900 910 920 930 940 950 960 970 980 990 \n",
            "Epoch training loss 0.024314253517892213\n",
            "Epoch valid loss 0.10428126054815948\n",
            "Validation Accuracy: 0.8502999999999997\n",
            "Best accuracy: 0.8614999999999999\n",
            "\n"
          ]
        }
      ]
    },
    {
      "cell_type": "code",
      "metadata": {
        "id": "1RPruM7xpwHG"
      },
      "source": [
        "import matplotlib.pyplot as plt"
      ],
      "execution_count": 52,
      "outputs": []
    },
    {
      "cell_type": "code",
      "metadata": {
        "id": "AcObn67nZXwr",
        "colab": {
          "base_uri": "https://localhost:8080/",
          "height": 281
        },
        "outputId": "91320f99-383d-4867-96a0-b3a6e5cd2111"
      },
      "source": [
        "plt.title(\"Loss\")\n",
        "plt.plot([loss / len(dl_train) for loss in losses[:-1]], label=\"Training Loss\") \n",
        "plt.plot([val_loss / len(dl_test) for val_loss in val_losses[:-1]], label=\"Testing Loss\")\n",
        "plt.legend()\n",
        "plt.show()"
      ],
      "execution_count": 53,
      "outputs": [
        {
          "output_type": "display_data",
          "data": {
            "image/png": "[encoded data removed]",
            "text/plain": [
              "<Figure size 432x288 with 1 Axes>"
            ]
          },
          "metadata": {
            "needs_background": "light"
          }
        }
      ]
    },
    {
      "cell_type": "code",
      "metadata": {
        "id": "gfxR6zGeq5F_",
        "colab": {
          "base_uri": "https://localhost:8080/",
          "height": 281
        },
        "outputId": "2ed18d37-df6f-4df0-8815-a1e9fa4e2668"
      },
      "source": [
        "plt.title(\"Accuracy\")\n",
        "plt.plot(accuracy[:-1], label=\"Testing Accuracy\")\n",
        "plt.legend()\n",
        "plt.show()"
      ],
      "execution_count": 54,
      "outputs": [
        {
          "output_type": "display_data",
          "data": {
            "image/png": "[encoded data removed]",
            "text/plain": [
              "<Figure size 432x288 with 1 Axes>"
            ]
          },
          "metadata": {
            "needs_background": "light"
          }
        }
      ]
    },
    {
      "cell_type": "code",
      "metadata": {
        "id": "jgt_a8_5UQLW",
        "colab": {
          "base_uri": "https://localhost:8080/"
        },
        "outputId": "82406904-9686-487e-f691-475840e8b120"
      },
      "source": [
        "max(accuracy)"
      ],
      "execution_count": 55,
      "outputs": [
        {
          "output_type": "execute_result",
          "data": {
            "text/plain": [
              "0.8614999999999999"
            ]
          },
          "metadata": {},
          "execution_count": 55
        }
      ]
    },
    {
      "cell_type": "code",
      "metadata": {
        "id": "H0r6Mz-5VBRt"
      },
      "source": [
        ""
      ],
      "execution_count": null,
      "outputs": []
    }
  ]
}